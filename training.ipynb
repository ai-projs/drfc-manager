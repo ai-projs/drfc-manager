{
 "cells": [
  {
   "cell_type": "markdown",
   "metadata": {},
   "source": [
    "# DRFC via notebook\n",
    "## Executing DRFC \"stuffs\" as they be executed via Sagemaker\n",
    "\n",
    "referece [guidance-for-training-an-aws-deepracer-model-using-amazon-sagemaker](https://github.com/aws-solutions-library-samples/guidance-for-training-an-aws-deepracer-model-using-amazon-sagemaker/blob/master/dpr401/deepracer_rl.ipynb)"
   ]
  },
  {
   "cell_type": "code",
   "execution_count": 1,
   "metadata": {},
   "outputs": [],
   "source": [
    "from modules.types.hyperparameters import HyperParameters"
   ]
  },
  {
   "cell_type": "code",
   "execution_count": 2,
   "metadata": {},
   "outputs": [],
   "source": [
    "default_hyperparameters = HyperParameters()"
   ]
  },
  {
   "cell_type": "code",
   "execution_count": null,
   "metadata": {},
   "outputs": [],
   "source": []
  },
  {
   "cell_type": "code",
   "execution_count": 3,
   "metadata": {},
   "outputs": [
    {
     "data": {
      "text/plain": [
       "<function min>"
      ]
     },
     "execution_count": 3,
     "metadata": {},
     "output_type": "execute_result"
    }
   ],
   "source": [
    "min"
   ]
  },
  {
   "cell_type": "code",
   "execution_count": 4,
   "metadata": {},
   "outputs": [
    {
     "ename": "NameError",
     "evalue": "name 'TraininingManager' is not defined",
     "output_type": "error",
     "traceback": [
      "\u001b[0;31m---------------------------------------------------------------------------\u001b[0m",
      "\u001b[0;31mNameError\u001b[0m                                 Traceback (most recent call last)",
      "Cell \u001b[0;32mIn[4], line 1\u001b[0m\n\u001b[0;32m----> 1\u001b[0m training_utils \u001b[38;5;241m=\u001b[39m \u001b[43mTraininingManager\u001b[49m()\n\u001b[1;32m      2\u001b[0m training_utils\u001b[38;5;241m.\u001b[39mget_containers()\n",
      "\u001b[0;31mNameError\u001b[0m: name 'TraininingManager' is not defined"
     ]
    }
   ],
   "source": [
    "training_utils = TraininingManager()\n",
    "training_utils.get_containers()"
   ]
  },
  {
   "cell_type": "code",
   "execution_count": null,
   "metadata": {},
   "outputs": [
    {
     "data": {
      "text/plain": [
       "[<Image: ''>,\n",
       " <Image: ''>,\n",
       " <Image: 'awsdeepracercommunity/deepracer-robomaker:5.2.2-gpu'>,\n",
       " <Image: ''>,\n",
       " <Image: 'influxdb:1.8-alpine'>,\n",
       " <Image: ''>,\n",
       " <Image: 'local/gputest:latest'>,\n",
       " <Image: ''>,\n",
       " <Image: ''>,\n",
       " <Image: 'grafana/grafana:10.4.2'>,\n",
       " <Image: 'awsdeepracercommunity/deepracer-sagemaker:5.2.1-gpu'>,\n",
       " <Image: 'awsdeepracercommunity/deepracer-robomaker:5.2.1-gpu'>,\n",
       " <Image: 'awsdeepracercommunity/deepracer-robomaker:5.2.1-cpu'>,\n",
       " <Image: 'awsdeepracercommunity/deepracer-rlcoach:5.2.1'>,\n",
       " <Image: 'telegraf:1.18-alpine'>]"
      ]
     },
     "execution_count": 5,
     "metadata": {},
     "output_type": "execute_result"
    }
   ],
   "source": [
    "training_utils.get_images()"
   ]
  },
  {
   "cell_type": "code",
   "execution_count": null,
   "metadata": {},
   "outputs": [
    {
     "name": "stderr",
     "output_type": "stream",
     "text": [
      "sudo: a terminal is required to read the password; either use the -S option to read from standard input or configure an askpass helper\n",
      "sudo: a password is required\n",
      "sudo: a terminal is required to read the password; either use the -S option to read from standard input or configure an askpass helper\n",
      "sudo: a password is required\n"
     ]
    },
    {
     "name": "stdout",
     "output_type": "stream",
     "text": [
      "Training of model s3://bucket/case-4-explr-zg-offt-speed-borders-1-deep-dnw starting.\n",
      "Using configuration files:\n",
      "   s3://bucket/custom_files/reward_function.py\n",
      "   s3://bucket/custom_files/model_metadata.json\n",
      "   s3://bucket/custom_files/hyperparameters.json\n",
      "Wiping path s3://bucket/case-4-explr-zg-offt-speed-borders-1-deep-dnw.\n",
      "delete: s3://bucket/case-4-explr-zg-offt-speed-borders-1-deep-dnw/reward_function.py\n",
      "delete: s3://bucket/case-4-explr-zg-offt-speed-borders-1-deep-dnw/training_params.yaml\n",
      "Starting 4 workers\n",
      "Creating Robomaker configuration in s3://bucket/case-4-explr-zg-offt-speed-borders-1-deep-dnw/training_params.yaml\n",
      "hi swarm\n",
      "ROBOMAKER NODES  1\n",
      "SAGEMAKER NODES \n",
      "DISPLAY \n",
      "STACK  deepracer-0\n",
      "DOCKER COMPOSE:  -c /home/insightlab/deepracer/deepracer-for-cloud/docker/docker-compose-training.yml -c /home/insightlab/deepracer/deepracer-for-cloud/docker/docker-compose-endpoint.yml -c /home/insightlab/deepracer/deepracer-for-cloud/docker/docker-compose-training-swarm.yml -c /home/insightlab/deepracer/deepracer-for-cloud/docker/docker-compose-keys.yml\n"
     ]
    }
   ],
   "source": [
    "scripts_manager = ScriptsManager()\n",
    "scripts_manager.start_training(replace=True)"
   ]
  },
  {
   "cell_type": "code",
   "execution_count": null,
   "metadata": {},
   "outputs": [
    {
     "name": "stderr",
     "output_type": "stream",
     "text": [
      "Nothing found in stack: deepracer-0\n"
     ]
    }
   ],
   "source": [
    "scripts_manager.stop_training()"
   ]
  }
 ],
 "metadata": {
  "kernelspec": {
   "display_name": "dr",
   "language": "python",
   "name": "python3"
  },
  "language_info": {
   "codemirror_mode": {
    "name": "ipython",
    "version": 3
   },
   "file_extension": ".py",
   "mimetype": "text/x-python",
   "name": "python",
   "nbconvert_exporter": "python",
   "pygments_lexer": "ipython3",
   "version": "3.10.14"
  }
 },
 "nbformat": 4,
 "nbformat_minor": 2
}
