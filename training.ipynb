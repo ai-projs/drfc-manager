{
 "cells": [
  {
   "cell_type": "markdown",
   "metadata": {},
   "source": [
    "# DRFC via notebook\n",
    "## Executing DRFC \"stuffs\" as they be executed via Sagemaker\n",
    "\n",
    "referece [guidance-for-training-an-aws-deepracer-model-using-amazon-sagemaker](https://github.com/aws-solutions-library-samples/guidance-for-training-an-aws-deepracer-model-using-amazon-sagemaker/blob/master/dpr401/deepracer_rl.ipynb)"
   ]
  },
  {
   "cell_type": "markdown",
   "source": [
    "## Required imports"
   ],
   "metadata": {
    "collapsed": false
   }
  },
  {
   "cell_type": "code",
   "outputs": [],
   "source": [
    "from workflow.upload.types import hyperparameters, model_metadata"
   ],
   "metadata": {
    "collapsed": false,
    "ExecuteTime": {
     "end_time": "2024-05-09T01:13:33.934010Z",
     "start_time": "2024-05-09T01:13:33.925396Z"
    }
   },
   "execution_count": 10
  },
  {
   "cell_type": "markdown",
   "source": [
    "## Defining files to setup training config\n"
   ],
   "metadata": {
    "collapsed": false
   }
  },
  {
   "cell_type": "code",
   "outputs": [],
   "source": [
    "# Hyperparameters model\n",
    "hyperparameters = hyperparameters.HyperParameters()"
   ],
   "metadata": {
    "collapsed": false,
    "ExecuteTime": {
     "end_time": "2024-05-09T01:13:33.941672Z",
     "start_time": "2024-05-09T01:13:33.936595Z"
    }
   },
   "execution_count": 11
  },
  {
   "cell_type": "code",
   "outputs": [],
   "source": [
    "# Model metadata\n",
    "model_metadata = model_metadata.ModelMetadata()"
   ],
   "metadata": {
    "collapsed": false,
    "ExecuteTime": {
     "end_time": "2024-05-09T01:13:33.945737Z",
     "start_time": "2024-05-09T01:13:33.943191Z"
    }
   },
   "execution_count": 12
  },
  {
   "cell_type": "markdown",
   "source": [
    "### Reward function\n",
    "When you executed the bellow cell the reward all content will be placed into your reward function, ensures that this cell has all dependencies that you need to run your function"
   ],
   "metadata": {
    "collapsed": false
   }
  },
  {
   "cell_type": "code",
   "outputs": [
    {
     "name": "stdout",
     "output_type": "stream",
     "text": [
      "Overwriting reward_function.py\n"
     ]
    }
   ],
   "source": [
    "%%writefile reward_function.py\n",
    "\n",
    "def reward_function(params):\n",
    "    reward = 2\n",
    "    return float(reward)"
   ],
   "metadata": {
    "collapsed": false,
    "ExecuteTime": {
     "end_time": "2024-05-09T01:13:33.953046Z",
     "start_time": "2024-05-09T01:13:33.947612Z"
    }
   },
   "execution_count": 13
  }
 ],
 "metadata": {
  "kernelspec": {
   "display_name": "dr",
   "language": "python",
   "name": "python3"
  },
  "language_info": {
   "codemirror_mode": {
    "name": "ipython",
    "version": 3
   },
   "file_extension": ".py",
   "mimetype": "text/x-python",
   "name": "python",
   "nbconvert_exporter": "python",
   "pygments_lexer": "ipython3",
   "version": "3.10.14"
  }
 },
 "nbformat": 4,
 "nbformat_minor": 2
}
