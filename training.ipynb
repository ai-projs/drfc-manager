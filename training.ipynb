{
 "cells": [
  {
   "cell_type": "markdown",
   "id": "16af81850f057780",
   "metadata": {},
   "source": [
    "# Training Pipeline Example"
   ]
  },
  {
   "cell_type": "markdown",
   "id": "3d6cc6198b704696",
   "metadata": {},
   "source": [
    "## 1. Imports"
   ]
  },
  {
   "cell_type": "code",
   "execution_count": 1,
   "id": "initial_id",
   "metadata": {
    "ExecuteTime": {
     "end_time": "2025-04-07T03:40:24.761062Z",
     "start_time": "2025-04-07T03:40:22.882812Z"
    }
   },
   "outputs": [],
   "source": [
    "%reload_ext dotenv\n",
    "%dotenv\n",
    "\n",
    "import warnings\n",
    "warnings.filterwarnings(action='ignore', module='.*paramiko.*')\n",
    "\n",
    "import os\n",
    "\n",
    "from src.training_pipeline import train_pipeline\n",
    "import io\n",
    "\n",
    "from src.types.hyperparameters import HyperParameters\n",
    "from src.types.model_metadata import ModelMetadata"
   ]
  },
  {
   "cell_type": "markdown",
   "id": "7390673703d0b582",
   "metadata": {},
   "source": [
    "## 2. Defining model parameters and reward function"
   ]
  },
  {
   "cell_type": "code",
   "execution_count": 2,
   "id": "dc093ea3a87c4a76",
   "metadata": {
    "ExecuteTime": {
     "end_time": "2025-04-07T03:40:24.770369Z",
     "start_time": "2025-04-07T03:40:24.767590Z"
    }
   },
   "outputs": [],
   "source": [
    "# Default values set from official documentation\n",
    "model_name = 'rl-deepracer-sagemaker'\n",
    "hyperparameters = HyperParameters()\n",
    "model_metadata = ModelMetadata()"
   ]
  },
  {
   "cell_type": "code",
   "execution_count": 3,
   "id": "dfedd3608f3df109",
   "metadata": {
    "ExecuteTime": {
     "end_time": "2025-04-07T03:40:24.896897Z",
     "start_time": "2025-04-07T03:40:24.893615Z"
    }
   },
   "outputs": [
    {
     "data": {
      "text/plain": [
       "HyperParameters(batch_size=64, beta_entropy=0.01, discount_factor=0.999, e_greedy_value=0.05, epsilon_steps=10000, exploration_type=<ExplorationType.CATEGORICAL: 'categorical'>, loss_type=<LossType.HUBER: 'huber'>, lr=0.0003, num_episodes_between_training=40, num_epochs=3, stack_size=1, term_cond_avg_score=100000, term_cond_max_episodes=100000)"
      ]
     },
     "execution_count": 3,
     "metadata": {},
     "output_type": "execute_result"
    }
   ],
   "source": [
    "hyperparameters"
   ]
  },
  {
   "cell_type": "code",
   "execution_count": 4,
   "id": "6efa625cad6135b2",
   "metadata": {
    "ExecuteTime": {
     "end_time": "2025-04-07T03:40:24.904006Z",
     "start_time": "2025-04-07T03:40:24.902014Z"
    }
   },
   "outputs": [
    {
     "data": {
      "text/plain": [
       "ModelMetadata(action_space_type=<ActionSpaceType.CONTINUOUS: 'continuous'>, action_space=ContinuousActionSpace(steering_angle=SteeringAngle(high=30.0, low=-30.0), speed=Speed(high=4.0, low=1.0)), version=5, training_algorithm=<TrainingAlgorithm.PPO: 'ppo'>, neural_network=<NeuralNetwork.DEEP_CONVOLUTIONAL_NETWORK_SHALLOW: 'DEEP_CONVOLUTIONAL_NETWORK_SHALLOW'>, sensor=[<Sensor.FRONT_FACING_CAMERA: 'FRONT_FACING_CAMERA'>])"
      ]
     },
     "execution_count": 4,
     "metadata": {},
     "output_type": "execute_result"
    }
   ],
   "source": [
    "model_metadata"
   ]
  },
  {
   "cell_type": "code",
   "execution_count": 5,
   "id": "2aeda5a8e1768361",
   "metadata": {
    "ExecuteTime": {
     "end_time": "2025-04-07T03:40:24.918697Z",
     "start_time": "2025-04-07T03:40:24.916995Z"
    }
   },
   "outputs": [],
   "source": [
    "def reward_function(params):\n",
    "  reward = 1.0\n",
    "  return float(reward)"
   ]
  },
  {
   "cell_type": "markdown",
   "id": "92b0e9d55b34174",
   "metadata": {},
   "source": [
    "## 3. Pipelines"
   ]
  },
  {
   "cell_type": "markdown",
   "id": "255de14139b2f1d7",
   "metadata": {},
   "source": [
    "### Training"
   ]
  },
  {
   "cell_type": "code",
   "execution_count": 6,
   "id": "3d14691e9fccfcb9",
   "metadata": {
    "ExecuteTime": {
     "end_time": "2025-04-07T03:40:39.697916Z",
     "start_time": "2025-04-07T03:40:24.925545Z"
    }
   },
   "outputs": [
    {
     "name": "stdout",
     "output_type": "stream",
     "text": [
      "Data uploaded successfully to custom files\n",
      "The reward function copied successfully to models folder at rl-deepracer-sagemaker/reward_function.py\n",
      "Verified: Training params file exists at rl-deepracer-sagemaker/training_params.yaml\n",
      "Upload successfully the RoboMaker training configurations\n",
      "Exposing the envs from config.env and system.env\n",
      "Starting model training\n"
     ]
    }
   ],
   "source": [
    "train_pipeline(\n",
    "  model_name=model_name,\n",
    "  hyperparameters=hyperparameters,\n",
    "  model_metadata=model_metadata,\n",
    "  reward_function=reward_function,\n",
    "  overwrite=True\n",
    ")"
   ]
  },
  {
   "cell_type": "code",
   "execution_count": 7,
   "id": "5c6997fb-9a7d-4d81-9bae-afa8de81b590",
   "metadata": {},
   "outputs": [
    {
     "data": {
      "application/vnd.jupyter.widget-view+json": {
       "model_id": "a96b53120f8f43779b0a317425feb531",
       "version_major": 2,
       "version_minor": 0
      },
      "text/plain": [
       "Textarea(value='', description='Logs (rl_coach):', layout=Layout(height='500px', width='100%'))"
      ]
     },
     "metadata": {},
     "output_type": "display_data"
    },
    {
     "data": {
      "application/vnd.jupyter.widget-view+json": {
       "model_id": "3c1672825e8345f590ef2f27cd44cab3",
       "version_major": 2,
       "version_minor": 0
      },
      "text/plain": [
       "HBox(children=(Button(button_style='success', description='Start Refresh', style=ButtonStyle()), Button(button…"
      ]
     },
     "metadata": {},
     "output_type": "display_data"
    }
   ],
   "source": [
    "from src.helpers.widget_logs import start_log_viewer\n",
    "\n",
    "start_log_viewer(\n",
    "    service_filter=\"rl_coach\",\n",
    "    wait_time=30, \n",
    "    refresh_interval=2.0, \n",
    "    tail=100\n",
    ")"
   ]
  },
  {
   "cell_type": "code",
   "execution_count": null,
   "id": "151c5f91-ac5d-4e5d-8a76-4444b93f3c36",
   "metadata": {},
   "outputs": [],
   "source": []
  }
 ],
 "metadata": {
  "kernelspec": {
   "display_name": "Python 3 (ipykernel)",
   "language": "python",
   "name": "python3"
  },
  "language_info": {
   "codemirror_mode": {
    "name": "ipython",
    "version": 3
   },
   "file_extension": ".py",
   "mimetype": "text/x-python",
   "name": "python",
   "nbconvert_exporter": "python",
   "pygments_lexer": "ipython3",
   "version": "3.10.12"
  }
 },
 "nbformat": 4,
 "nbformat_minor": 5
}
