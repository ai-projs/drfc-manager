{
 "cells": [
  {
   "cell_type": "markdown",
   "metadata": {},
   "source": [
    "# DRFC via notebook\n",
    "## Executing DRFC \"stuffs\" as they be executed via Sagemaker\n",
    "\n",
    "referece [guidance-for-training-an-aws-deepracer-model-using-amazon-sagemaker](https://github.com/aws-solutions-library-samples/guidance-for-training-an-aws-deepracer-model-using-amazon-sagemaker/blob/master/dpr401/deepracer_rl.ipynb)"
   ]
  },
  {
   "cell_type": "code",
   "execution_count": 6,
   "metadata": {},
   "outputs": [],
   "source": [
    "from modules.training.manager import TraininingManager\n",
    "from modules.training.local import ScriptsManager"
   ]
  },
  {
   "cell_type": "code",
   "execution_count": 7,
   "metadata": {},
   "outputs": [
    {
     "data": {
      "text/plain": [
       "[<Container: 482e4093bfa0>,\n",
       " <Container: 4f4dd3595151>,\n",
       " <Container: 57598dc4f908>,\n",
       " <Container: fa0435c99b2f>,\n",
       " <Container: 7c387a9e14dd>,\n",
       " <Container: e292a7ae9708>,\n",
       " <Container: 1aac51a9fb49>,\n",
       " <Container: 3867e384f5cd>,\n",
       " <Container: 273e36b5fb5c>,\n",
       " <Container: ca3a9bb6b9c4>,\n",
       " <Container: 35a72bb748df>,\n",
       " <Container: 8cad84acc98b>,\n",
       " <Container: 93eb5a527937>]"
      ]
     },
     "execution_count": 7,
     "metadata": {},
     "output_type": "execute_result"
    }
   ],
   "source": [
    "training_utils = TraininingManager()\n",
    "training_utils.get_containers()"
   ]
  },
  {
   "cell_type": "code",
   "execution_count": 8,
   "metadata": {},
   "outputs": [
    {
     "data": {
      "text/plain": [
       "[<Image: ''>,\n",
       " <Image: ''>,\n",
       " <Image: 'awsdeepracercommunity/deepracer-robomaker:5.2.2-gpu'>,\n",
       " <Image: ''>,\n",
       " <Image: 'influxdb:1.8-alpine'>,\n",
       " <Image: ''>,\n",
       " <Image: 'local/gputest:latest'>,\n",
       " <Image: ''>,\n",
       " <Image: ''>,\n",
       " <Image: 'grafana/grafana:10.4.2'>,\n",
       " <Image: 'awsdeepracercommunity/deepracer-sagemaker:5.2.1-gpu'>,\n",
       " <Image: 'awsdeepracercommunity/deepracer-robomaker:5.2.1-gpu'>,\n",
       " <Image: 'awsdeepracercommunity/deepracer-robomaker:5.2.1-cpu'>,\n",
       " <Image: 'awsdeepracercommunity/deepracer-rlcoach:5.2.1'>,\n",
       " <Image: 'telegraf:1.18-alpine'>]"
      ]
     },
     "execution_count": 8,
     "metadata": {},
     "output_type": "execute_result"
    }
   ],
   "source": [
    "training_utils.get_images()"
   ]
  },
  {
   "cell_type": "code",
   "execution_count": 9,
   "metadata": {},
   "outputs": [
    {
     "name": "stderr",
     "output_type": "stream",
     "text": [
      "sh: 1: /home/insightlab/deepracer/deepracer-for-cloud/scripts/training/: Permission denied\n"
     ]
    }
   ],
   "source": [
    "scripts_manager = ScriptsManager()\n",
    "scripts_manager.start_training(replace=True)"
   ]
  },
  {
   "cell_type": "code",
   "execution_count": 10,
   "metadata": {},
   "outputs": [
    {
     "name": "stderr",
     "output_type": "stream",
     "text": [
      "sh: 1: /home/insightlab/deepracer/deepracer-for-cloud/scripts/training/: Permission denied\n"
     ]
    }
   ],
   "source": [
    "scripts_manager.stop_training()"
   ]
  }
 ],
 "metadata": {
  "kernelspec": {
   "display_name": "dr",
   "language": "python",
   "name": "python3"
  },
  "language_info": {
   "codemirror_mode": {
    "name": "ipython",
    "version": 3
   },
   "file_extension": ".py",
   "mimetype": "text/x-python",
   "name": "python",
   "nbconvert_exporter": "python",
   "pygments_lexer": "ipython3",
   "version": "3.10.14"
  }
 },
 "nbformat": 4,
 "nbformat_minor": 2
}
