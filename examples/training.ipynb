{
 "cells": [
  {
   "cell_type": "markdown",
   "id": "16af81850f057780",
   "metadata": {},
   "source": [
    "# Training Pipeline Example"
   ]
  },
  {
   "cell_type": "markdown",
   "id": "3d6cc6198b704696",
   "metadata": {},
   "source": [
    "## 1. Imports"
   ]
  },
  {
   "cell_type": "code",
   "execution_count": 19,
   "id": "initial_id",
   "metadata": {
    "ExecuteTime": {
     "end_time": "2025-04-07T03:40:24.761062Z",
     "start_time": "2025-04-07T03:40:22.882812Z"
    },
    "collapsed": true
   },
   "outputs": [],
   "source": [
    "%reload_ext dotenv\n",
    "%dotenv\n",
    "\n",
    "import warnings\n",
    "warnings.filterwarnings(action='ignore', module='.*paramiko.*')\n",
    "\n",
    "import os\n",
    "\n",
    "from src.training_pipeline import train_pipeline\n",
    "import io\n",
    "\n",
    "from src.types.hyperparameters import HyperParameters\n",
    "from src.types.model_metadata import ModelMetadata"
   ]
  },
  {
   "cell_type": "markdown",
   "id": "7390673703d0b582",
   "metadata": {},
   "source": [
    "## 2. Defining model parameters and reward function"
   ]
  },
  {
   "cell_type": "code",
   "execution_count": 20,
   "id": "dc093ea3a87c4a76",
   "metadata": {
    "ExecuteTime": {
     "end_time": "2025-04-07T03:40:24.770369Z",
     "start_time": "2025-04-07T03:40:24.767590Z"
    }
   },
   "outputs": [],
   "source": [
    "# Default values set from official documentation\n",
    "model_name = 'rl-deepracer-sagemaker'\n",
    "hyperparameters = HyperParameters()\n",
    "model_metadata = ModelMetadata()"
   ]
  },
  {
   "cell_type": "code",
   "execution_count": 21,
   "id": "dfedd3608f3df109",
   "metadata": {
    "ExecuteTime": {
     "end_time": "2025-04-07T03:40:24.896897Z",
     "start_time": "2025-04-07T03:40:24.893615Z"
    }
   },
   "outputs": [
    {
     "data": {
      "text/plain": [
       "HyperParameters(batch_size=64, beta_entropy=0.01, discount_factor=0.999, e_greedy_value=0.05, epsilon_steps=10000, exploration_type=<ExplorationType.CATEGORICAL: 'categorical'>, loss_type=<LossType.HUBER: 'huber'>, lr=0.0003, num_episodes_between_training=40, num_epochs=3, stack_size=1, term_cond_avg_score=100000, term_cond_max_episodes=100000)"
      ]
     },
     "execution_count": 21,
     "metadata": {},
     "output_type": "execute_result"
    }
   ],
   "source": [
    "hyperparameters"
   ]
  },
  {
   "cell_type": "code",
   "execution_count": 22,
   "id": "6efa625cad6135b2",
   "metadata": {
    "ExecuteTime": {
     "end_time": "2025-04-07T03:40:24.904006Z",
     "start_time": "2025-04-07T03:40:24.902014Z"
    }
   },
   "outputs": [
    {
     "data": {
      "text/plain": [
       "ModelMetadata(action_space_type=<ActionSpaceType.CONTINUOUS: 'continuous'>, action_space=ContinuousActionSpace(steering_angle=SteeringAngle(high=30.0, low=-30.0), speed=Speed(high=4.0, low=1.0)), version=5, training_algorithm=<TrainingAlgorithm.PPO: 'ppo'>, neural_network=<NeuralNetwork.DEEP_CONVOLUTIONAL_NETWORK_SHALLOW: 'DEEP_CONVOLUTIONAL_NETWORK_SHALLOW'>, sensor=[<Sensor.FRONT_FACING_CAMERA: 'FRONT_FACING_CAMERA'>])"
      ]
     },
     "execution_count": 22,
     "metadata": {},
     "output_type": "execute_result"
    }
   ],
   "source": [
    "model_metadata"
   ]
  },
  {
   "cell_type": "code",
   "execution_count": 23,
   "id": "2aeda5a8e1768361",
   "metadata": {
    "ExecuteTime": {
     "end_time": "2025-04-07T03:40:24.918697Z",
     "start_time": "2025-04-07T03:40:24.916995Z"
    }
   },
   "outputs": [],
   "source": [
    "def reward_function(params):\n",
    "  reward = 1.0\n",
    "  return float(reward)"
   ]
  },
  {
   "cell_type": "markdown",
   "id": "92b0e9d55b34174",
   "metadata": {},
   "source": [
    "## 3. Pipelines"
   ]
  },
  {
   "cell_type": "markdown",
   "id": "255de14139b2f1d7",
   "metadata": {},
   "source": [
    "### Training"
   ]
  },
  {
   "cell_type": "code",
   "execution_count": 26,
   "id": "3d14691e9fccfcb9",
   "metadata": {
    "ExecuteTime": {
     "end_time": "2025-04-07T03:40:39.697916Z",
     "start_time": "2025-04-07T03:40:24.925545Z"
    }
   },
   "outputs": [
    {
     "name": "stdout",
     "output_type": "stream",
     "text": [
      "Data uploaded successfully to custom files\n",
      "The reward function copied successfully to models folder at rl-deepracer-sagemaker/reward_function.py\n",
      "Upload successfully the RoboMaker training configurations\n",
      "Exposing the envs from config.env and system.env\n",
      "Starting model training\n",
      "['/Users/jv/Desktop/uni/drfc-manager/config/drfc-images/docker-compose-training.yml', '/Users/jv/Desktop/uni/drfc-manager/config/drfc-images/docker-compose-keys.yml', '/Users/jv/Desktop/uni/drfc-manager/config/drfc-images/docker-compose-endpoint.yml']\n"
     ]
    },
    {
     "name": "stderr",
     "output_type": "stream",
     "text": [
      "time=\"2025-04-10T20:33:58-03:00\" level=warning msg=\"The \\\"DR_ROBOMAKER_TRAIN_PORT\\\" variable is not set. Defaulting to a blank string.\"\n",
      "time=\"2025-04-10T20:33:58-03:00\" level=warning msg=\"The \\\"DR_ROBOMAKER_GUI_PORT\\\" variable is not set. Defaulting to a blank string.\"\n",
      "time=\"2025-04-10T20:33:58-03:00\" level=warning msg=\"/Users/jv/Desktop/uni/drfc-manager/config/drfc-images/docker-compose-training.yml: the attribute `version` is obsolete, it will be ignored, please remove it to avoid potential confusion\"\n",
      "time=\"2025-04-10T20:33:58-03:00\" level=warning msg=\"/Users/jv/Desktop/uni/drfc-manager/config/drfc-images/docker-compose-keys.yml: the attribute `version` is obsolete, it will be ignored, please remove it to avoid potential confusion\"\n",
      "time=\"2025-04-10T20:33:58-03:00\" level=warning msg=\"/Users/jv/Desktop/uni/drfc-manager/config/drfc-images/docker-compose-endpoint.yml: the attribute `version` is obsolete, it will be ignored, please remove it to avoid potential confusion\"\n",
      " Container drfc-images-rl_coach-1  Created\n",
      " Container drfc-images-robomaker-1  Created\n"
     ]
    },
    {
     "name": "stdout",
     "output_type": "stream",
     "text": [
      "Attaching to rl_coach-1, robomaker-1\n",
      "rl_coach-1   | sagemaker.config INFO - Not applying SDK defaults from location: /etc/xdg/sagemaker/config.yaml\n",
      "rl_coach-1   | sagemaker.config INFO - Not applying SDK defaults from location: /root/.config/sagemaker/config.yaml\n",
      "rl_coach-1   | Model checkpoints and other metadata will be stored at: s3://tcc-experiments/rl-deepracer-sagemaker\n",
      "rl_coach-1   | Uploading to s3://tcc-experiments/rl-deepracer-sagemaker\n",
      "rl_coach-1   | Using image awsdeepracercommunity/deepracer-simapp:5.3.3-gpu\n"
     ]
    },
    {
     "name": "stderr",
     "output_type": "stream",
     "text": [
      "rl_coach-1   | Traceback (most recent call last):\n",
      "rl_coach-1   |   File \"/opt/code/ml/rl_coach/start.py\", line 99, in <module>\n",
      "rl_coach-1   |     s3Client.download_fileobj(s3_bucket, hyperparameter_file, hyperparameter_data)\n",
      "rl_coach-1   |   File \"/usr/local/lib/python3.8/dist-packages/boto3/s3/inject.py\", line 801, in download_fileobj\n",
      "rl_coach-1   |     return future.result()\n",
      "rl_coach-1   |   File \"/usr/local/lib/python3.8/dist-packages/s3transfer/futures.py\", line 103, in result\n",
      "rl_coach-1   |     return self._coordinator.result()\n",
      "rl_coach-1   |   File \"/usr/local/lib/python3.8/dist-packages/s3transfer/futures.py\", line 264, in result\n",
      "rl_coach-1   |     raise self._exception\n",
      "rl_coach-1   |   File \"/usr/local/lib/python3.8/dist-packages/s3transfer/tasks.py\", line 265, in _main\n",
      "rl_coach-1   |     self._submit(transfer_future=transfer_future, **kwargs)\n",
      "rl_coach-1   |   File \"/usr/local/lib/python3.8/dist-packages/s3transfer/download.py\", line 352, in _submit\n",
      "rl_coach-1   |     response = client.head_object(\n",
      "rl_coach-1   |   File \"/usr/local/lib/python3.8/dist-packages/botocore/client.py\", line 569, in _api_call\n",
      "rl_coach-1   |     return self._make_api_call(operation_name, kwargs)\n",
      "rl_coach-1   |   File \"/usr/local/lib/python3.8/dist-packages/botocore/client.py\", line 1023, in _make_api_call\n",
      "rl_coach-1   |     raise error_class(parsed_response, operation_name)\n",
      "rl_coach-1   | botocore.exceptions.ClientError: An error occurred (404) when calling the HeadObject operation: Not Found\n"
     ]
    },
    {
     "name": "stdout",
     "output_type": "stream",
     "text": [
      "\u001b[Krl_coach-1 exited with code 1\n",
      "\u001b[Krobomaker-1 exited with code 0\n"
     ]
    }
   ],
   "source": [
    "train_pipeline(\n",
    "  model_name=model_name,\n",
    "  hyperparameters=hyperparameters,\n",
    "  model_metadata=model_metadata,\n",
    "  reward_function=reward_function,\n",
    "  overwrite=False\n",
    ")"
   ]
  }
 ],
 "metadata": {
  "kernelspec": {
   "display_name": "drfc-manager",
   "language": "python",
   "name": "python3"
  },
  "language_info": {
   "codemirror_mode": {
    "name": "ipython",
    "version": 3
   },
   "file_extension": ".py",
   "mimetype": "text/x-python",
   "name": "python",
   "nbconvert_exporter": "python",
   "pygments_lexer": "ipython3",
   "version": "3.11.11"
  }
 },
 "nbformat": 4,
 "nbformat_minor": 5
}
