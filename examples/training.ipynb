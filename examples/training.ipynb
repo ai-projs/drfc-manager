{
 "cells": [
  {
   "cell_type": "markdown",
   "id": "16af81850f057780",
   "metadata": {},
   "source": [
    "# Training Pipeline Example"
   ]
  },
  {
   "cell_type": "markdown",
   "id": "3d6cc6198b704696",
   "metadata": {},
   "source": [
    "## 1. Imports"
   ]
  },
  {
   "cell_type": "code",
   "execution_count": 1,
   "id": "initial_id",
   "metadata": {
    "ExecuteTime": {
     "end_time": "2025-04-07T03:40:24.761062Z",
     "start_time": "2025-04-07T03:40:22.882812Z"
    }
   },
   "outputs": [
    {
     "name": "stdout",
     "output_type": "stream",
     "text": [
      "Using existing MinIO bucket: tcc-experiments\n",
      "Using existing MinIO bucket: tcc-experiments\n",
      "Using existing MinIO bucket: tcc-experiments\n"
     ]
    }
   ],
   "source": [
    "%reload_ext dotenv\n",
    "%dotenv\n",
    "\n",
    "import warnings\n",
    "warnings.filterwarnings(action='ignore', module='.*paramiko.*')\n",
    "\n",
    "import os\n",
    "\n",
    "from src.training_pipeline import train_pipeline, stop_training_pipeline\n",
    "\n",
    "# from src.monitoring_pipeline import check_logs_pipeline\n",
    "\n",
    "from src.types.hyperparameters import HyperParameters\n",
    "from src.types.model_metadata import ModelMetadata\n",
    "\n"
   ]
  },
  {
   "cell_type": "markdown",
   "id": "7390673703d0b582",
   "metadata": {},
   "source": [
    "## 2. Defining model parameters and reward function"
   ]
  },
  {
   "cell_type": "code",
   "execution_count": 2,
   "id": "dc093ea3a87c4a76",
   "metadata": {
    "ExecuteTime": {
     "end_time": "2025-04-07T03:40:24.770369Z",
     "start_time": "2025-04-07T03:40:24.767590Z"
    }
   },
   "outputs": [],
   "source": [
    "# Default values set from official documentation\n",
    "model_name = 'rl-deepracer-sagemaker'\n",
    "hyperparameters = HyperParameters()\n",
    "model_metadata = ModelMetadata()"
   ]
  },
  {
   "cell_type": "code",
   "execution_count": 3,
   "id": "dfedd3608f3df109",
   "metadata": {
    "ExecuteTime": {
     "end_time": "2025-04-07T03:40:24.896897Z",
     "start_time": "2025-04-07T03:40:24.893615Z"
    }
   },
   "outputs": [
    {
     "data": {
      "text/plain": [
       "HyperParameters(batch_size=64, beta_entropy=0.01, discount_factor=0.999, e_greedy_value=0.05, epsilon_steps=10000, exploration_type=<ExplorationType.CATEGORICAL: 'categorical'>, loss_type=<LossType.HUBER: 'huber'>, lr=0.0003, num_episodes_between_training=40, num_epochs=3, stack_size=1, term_cond_avg_score=100000, term_cond_max_episodes=100000)"
      ]
     },
     "execution_count": 3,
     "metadata": {},
     "output_type": "execute_result"
    }
   ],
   "source": [
    "hyperparameters"
   ]
  },
  {
   "cell_type": "code",
   "execution_count": 4,
   "id": "6efa625cad6135b2",
   "metadata": {
    "ExecuteTime": {
     "end_time": "2025-04-07T03:40:24.904006Z",
     "start_time": "2025-04-07T03:40:24.902014Z"
    }
   },
   "outputs": [
    {
     "data": {
      "text/plain": [
       "ModelMetadata(action_space_type=<ActionSpaceType.CONTINUOUS: 'continuous'>, action_space=ContinuousActionSpace(steering_angle=SteeringAngle(high=30.0, low=-30.0), speed=Speed(high=4.0, low=1.0)), version=5, training_algorithm=<TrainingAlgorithm.PPO: 'clipped_ppo'>, neural_network=<NeuralNetwork.DEEP_CONVOLUTIONAL_NETWORK_SHALLOW: 'DEEP_CONVOLUTIONAL_NETWORK_SHALLOW'>, sensor=[<Sensor.FRONT_FACING_CAMERA: 'FRONT_FACING_CAMERA'>])"
      ]
     },
     "execution_count": 4,
     "metadata": {},
     "output_type": "execute_result"
    }
   ],
   "source": [
    "model_metadata"
   ]
  },
  {
   "cell_type": "code",
   "execution_count": 5,
   "id": "2aeda5a8e1768361",
   "metadata": {
    "ExecuteTime": {
     "end_time": "2025-04-07T03:40:24.918697Z",
     "start_time": "2025-04-07T03:40:24.916995Z"
    }
   },
   "outputs": [],
   "source": [
    "def reward_function(params):\n",
    "  reward = 1.0\n",
    "  return float(reward)"
   ]
  },
  {
   "cell_type": "markdown",
   "id": "92b0e9d55b34174",
   "metadata": {},
   "source": [
    "## 3. Pipelines"
   ]
  },
  {
   "cell_type": "markdown",
   "id": "255de14139b2f1d7",
   "metadata": {},
   "source": [
    "### Training"
   ]
  },
  {
   "cell_type": "code",
   "execution_count": 8,
   "id": "129ac34e",
   "metadata": {},
   "outputs": [
    {
     "name": "stdout",
     "output_type": "stream",
     "text": [
      "Attempting to stop training stack...\n",
      "Targeting Run ID: 0\n",
      "Cleaning up previous run for project deepracer-0...\n",
      "Executing: docker compose -p deepracer-0 down --remove-orphans --volumes\n",
      "Stderr:\n",
      " Container deepracer-0-rl_coach-1  Stopping\n",
      " Container deepracer-0-robomaker-1  Stopping\n",
      " Container deepracer-0-robomaker-1  Stopped\n",
      " Container deepracer-0-robomaker-1  Removing\n",
      " Container deepracer-0-robomaker-1  Removed\n",
      " Container deepracer-0-redis-1  Stopping\n",
      " Container deepracer-0-redis-1  Stopped\n",
      " Container deepracer-0-redis-1  Removing\n",
      " Container deepracer-0-redis-1  Removed\n",
      " Container deepracer-0-rl_coach-1  Stopped\n",
      " Container deepracer-0-rl_coach-1  Removing\n",
      " Container deepracer-0-rl_coach-1  Removed\n",
      "\n",
      "Training stack stopped successfully.\n"
     ]
    }
   ],
   "source": [
    "stop_training_pipeline()"
   ]
  },
  {
   "cell_type": "code",
   "execution_count": 9,
   "id": "3d14691e9fccfcb9",
   "metadata": {
    "ExecuteTime": {
     "end_time": "2025-04-07T03:40:39.697916Z",
     "start_time": "2025-04-07T03:40:24.925545Z"
    }
   },
   "outputs": [
    {
     "name": "stdout",
     "output_type": "stream",
     "text": [
      "Starting training pipeline for model: rl-deepracer-sagemaker, Run ID: 0\n",
      "Model prefix rl-deepracer-sagemaker/ does not exist. Proceeding.\n",
      "Successfully uploaded custom_files/hyperparameters.json to bucket tcc-experiments\n",
      "Successfully uploaded custom_files/model_metadata.json to bucket tcc-experiments\n",
      "Successfully uploaded custom_files/reward_function.py to bucket tcc-experiments\n",
      "Data uploaded successfully to custom files\n",
      "Successfully copied custom_files/reward_function.py to rl-deepracer-sagemaker/reward_function.py\n",
      "The reward function copied successfully to models folder at rl-deepracer-sagemaker/reward_function.py\n",
      "Generating local training_params.yaml...\n",
      "Generated /tmp/dr/training-params-20250422100831.yaml, uploading to rl-deepracer-sagemaker/training_params.yaml\n",
      "Successfully uploaded local file /tmp/dr/training-params-20250422100831.yaml to rl-deepracer-sagemaker/training_params.yaml\n",
      "Verified: Training params file exists at rl-deepracer-sagemaker/training_params.yaml\n",
      "Cleaned up local file: /tmp/dr/training-params-20250422100831.yaml\n",
      "Upload successfully the RoboMaker training configurations\n",
      "Loaded DR_* vars for model 'rl-deepracer-sagemaker' into current process environment.\n",
      "Starting model training\n",
      "Attempting to start DeepRacer Docker stack...\n",
      "Cleaning up previous run for project deepracer-0...\n",
      "Executing: docker compose -p deepracer-0 down --remove-orphans --volumes\n",
      "Stderr:\n",
      "time=\"2025-04-22T10:08:31-03:00\" level=warning msg=\"Warning: No resource found to remove for project \\\"deepracer-0\\\".\"\n",
      "\n",
      "Pruning unused Docker resources...\n",
      "Executing: docker network prune -f\n",
      "Executing: docker system prune -f\n",
      "Stdout:\n",
      "Total reclaimed space: 0B\n",
      "\n",
      "Starting DeepRacer stack for project deepracer-0 with 1 workers...\n",
      "Network 'sagemaker-local' already exists.\n",
      "Created modified compose file with Redis at /tmp/docker-compose-training-redis-arxa_zkd.yml\n",
      "Using compose files: ['/tmp/docker-compose-training-redis-arxa_zkd.yml', '/home/insightlab/deepracer/drfc-manager/config/drfc-images/docker-compose-keys.yml', '/home/insightlab/deepracer/drfc-manager/config/drfc-images/docker-compose-endpoint.yml']\n",
      "ROBOMAKER_COMMAND set to: /opt/simapp/run.sh run distributed_training.launch\n",
      "Executing: docker compose -f /tmp/docker-compose-training-redis-arxa_zkd.yml -f /home/insightlab/deepracer/drfc-manager/config/drfc-images/docker-compose-keys.yml -f /home/insightlab/deepracer/drfc-manager/config/drfc-images/docker-compose-endpoint.yml -p deepracer-0 up -d --remove-orphans --force-recreate\n",
      "Stderr:\n",
      "time=\"2025-04-22T10:08:35-03:00\" level=warning msg=\"/home/insightlab/deepracer/drfc-manager/config/drfc-images/docker-compose-keys.yml: the attribute `version` is obsolete, it will be ignored, please remove it to avoid potential confusion\"\n",
      "time=\"2025-04-22T10:08:35-03:00\" level=warning msg=\"/home/insightlab/deepracer/drfc-manager/config/drfc-images/docker-compose-endpoint.yml: the attribute `version` is obsolete, it will be ignored, please remove it to avoid potential confusion\"\n",
      " Container deepracer-0-redis-1  Creating\n",
      " Container deepracer-0-rl_coach-1  Creating\n",
      " Container deepracer-0-rl_coach-1  Created\n",
      " Container deepracer-0-redis-1  Created\n",
      " Container deepracer-0-robomaker-1  Creating\n",
      " Container deepracer-0-robomaker-1  Created\n",
      " Container deepracer-0-rl_coach-1  Starting\n",
      " Container deepracer-0-redis-1  Starting\n",
      " Container deepracer-0-redis-1  Started\n",
      " Container deepracer-0-robomaker-1  Starting\n",
      " Container deepracer-0-rl_coach-1  Started\n",
      " Container deepracer-0-robomaker-1  Started\n",
      "\n",
      "Cleaned up temporary file /tmp/docker-compose-training-redis-arxa_zkd.yml\n",
      "Checking container status...\n",
      "Executing: docker compose -p deepracer-0 ps\n",
      "Stdout:\n",
      "NAME                      IMAGE                                              COMMAND                  SERVICE     CREATED         STATUS         PORTS\n",
      "deepracer-0-redis-1       redis:alpine                                       \"docker-entrypoint.s…\"   redis       7 seconds ago   Up 6 seconds   6379/tcp\n",
      "deepracer-0-rl_coach-1    awsdeepracercommunity/deepracer-simapp:5.3.3-gpu   \"/bin/bash -c 'pytho…\"   rl_coach    7 seconds ago   Up 6 seconds   \n",
      "deepracer-0-robomaker-1   awsdeepracercommunity/deepracer-simapp:5.3.3-gpu   \"/bin/bash -c '/opt/…\"   robomaker   7 seconds ago   Up 5 seconds   0.0.0.0:6900->5900/tcp, 0.0.0.0:6900->5900/tcp, [::]:6900->5900/tcp, [::]:6900->5900/tcp, 0.0.0.0:9080->8080/tcp, 0.0.0.0:9080->8080/tcp, [::]:9080->8080/tcp, [::]:9080->8080/tcp\n",
      "\n",
      "Executing: docker ps --filter label=com.docker.compose.project=deepracer-0 --filter label=com.docker.compose.service=robomaker --filter status=running -q\n",
      "Stdout:\n",
      "2e5409a1bcb1\n",
      "\n",
      "Found running RoboMaker containers: 1\n",
      "Successfully started 1 RoboMaker workers.\n",
      "DeepRacer Docker stack started successfully.\n",
      "Docker stack started.\n",
      "Skipping log check.\n",
      "Training pipeline finished.\n"
     ]
    }
   ],
   "source": [
    "train_pipeline(\n",
    "  model_name=model_name,\n",
    "  hyperparameters=hyperparameters,\n",
    "  model_metadata=model_metadata,\n",
    "  reward_function=reward_function,\n",
    "  overwrite=True\n",
    ")"
   ]
  }
 ],
 "metadata": {
  "kernelspec": {
   "display_name": "Python 3 (ipykernel)",
   "language": "python",
   "name": "python3"
  },
  "language_info": {
   "codemirror_mode": {
    "name": "ipython",
    "version": 3
   },
   "file_extension": ".py",
   "mimetype": "text/x-python",
   "name": "python",
   "nbconvert_exporter": "python",
   "pygments_lexer": "ipython3",
   "version": "3.10.12"
  }
 },
 "nbformat": 4,
 "nbformat_minor": 5
}
