{
 "cells": [
  {
   "cell_type": "markdown",
   "id": "16af81850f057780",
   "metadata": {},
   "source": [
    "# DeepRacer Complete Pipeline Example"
   ]
  },
  {
   "cell_type": "markdown",
   "id": "3d6cc6198b704696",
   "metadata": {},
   "source": [
    "## 1. Imports"
   ]
  },
  {
   "cell_type": "code",
   "execution_count": 1,
   "id": "initial_id",
   "metadata": {},
   "outputs": [
    {
     "ename": "ModuleNotFoundError",
     "evalue": "No module named 'pydantic_settings'",
     "output_type": "error",
     "traceback": [
      "\u001b[0;31m---------------------------------------------------------------------------\u001b[0m",
      "\u001b[0;31mModuleNotFoundError\u001b[0m                       Traceback (most recent call last)",
      "\u001b[1;32m/home/insightlab/deepracer/drfc-manager/examples/training.ipynb Cell 3\u001b[0m line \u001b[0;36m1\n\u001b[0;32m----> <a href='vscode-notebook-cell://ssh-remote%2Bjaguaribe.quixada.ufc.br/home/insightlab/deepracer/drfc-manager/examples/training.ipynb#W2sdnNjb2RlLXJlbW90ZQ%3D%3D?line=0'>1</a>\u001b[0m \u001b[39mfrom\u001b[39;00m \u001b[39mdrfc_manager\u001b[39;00m\u001b[39m.\u001b[39;00m\u001b[39mpipelines\u001b[39;00m \u001b[39mimport\u001b[39;00m (\n\u001b[1;32m      <a href='vscode-notebook-cell://ssh-remote%2Bjaguaribe.quixada.ufc.br/home/insightlab/deepracer/drfc-manager/examples/training.ipynb#W2sdnNjb2RlLXJlbW90ZQ%3D%3D?line=1'>2</a>\u001b[0m     train_pipeline, stop_training_pipeline, clone_pipeline,\n\u001b[1;32m      <a href='vscode-notebook-cell://ssh-remote%2Bjaguaribe.quixada.ufc.br/home/insightlab/deepracer/drfc-manager/examples/training.ipynb#W2sdnNjb2RlLXJlbW90ZQ%3D%3D?line=2'>3</a>\u001b[0m     start_viewer_pipeline, stop_viewer_pipeline,\n\u001b[1;32m      <a href='vscode-notebook-cell://ssh-remote%2Bjaguaribe.quixada.ufc.br/home/insightlab/deepracer/drfc-manager/examples/training.ipynb#W2sdnNjb2RlLXJlbW90ZQ%3D%3D?line=3'>4</a>\u001b[0m     start_metrics_pipeline, stop_metrics_pipeline\n\u001b[1;32m      <a href='vscode-notebook-cell://ssh-remote%2Bjaguaribe.quixada.ufc.br/home/insightlab/deepracer/drfc-manager/examples/training.ipynb#W2sdnNjb2RlLXJlbW90ZQ%3D%3D?line=4'>5</a>\u001b[0m )\n\u001b[1;32m      <a href='vscode-notebook-cell://ssh-remote%2Bjaguaribe.quixada.ufc.br/home/insightlab/deepracer/drfc-manager/examples/training.ipynb#W2sdnNjb2RlLXJlbW90ZQ%3D%3D?line=6'>7</a>\u001b[0m \u001b[39mfrom\u001b[39;00m \u001b[39mdrfc_manager\u001b[39;00m\u001b[39m.\u001b[39;00m\u001b[39mtypes\u001b[39;00m\u001b[39m.\u001b[39;00m\u001b[39mhyperparameters\u001b[39;00m \u001b[39mimport\u001b[39;00m HyperParameters\n\u001b[1;32m      <a href='vscode-notebook-cell://ssh-remote%2Bjaguaribe.quixada.ufc.br/home/insightlab/deepracer/drfc-manager/examples/training.ipynb#W2sdnNjb2RlLXJlbW90ZQ%3D%3D?line=7'>8</a>\u001b[0m \u001b[39mfrom\u001b[39;00m \u001b[39mdrfc_manager\u001b[39;00m\u001b[39m.\u001b[39;00m\u001b[39mtypes\u001b[39;00m\u001b[39m.\u001b[39;00m\u001b[39mmodel_metadata\u001b[39;00m \u001b[39mimport\u001b[39;00m ModelMetadata\n",
      "File \u001b[0;32m~/deepracer/drfc-manager/drfc_manager/pipelines/__init__.py:1\u001b[0m\n\u001b[0;32m----> 1\u001b[0m \u001b[39mfrom\u001b[39;00m \u001b[39mdrfc_manager\u001b[39;00m\u001b[39m.\u001b[39;00m\u001b[39mpipelines\u001b[39;00m\u001b[39m.\u001b[39;00m\u001b[39mtraining\u001b[39;00m \u001b[39mimport\u001b[39;00m train_pipeline, stop_training_pipeline, clone_pipeline\n\u001b[1;32m      2\u001b[0m \u001b[39mfrom\u001b[39;00m \u001b[39mdrfc_manager\u001b[39;00m\u001b[39m.\u001b[39;00m\u001b[39mpipelines\u001b[39;00m\u001b[39m.\u001b[39;00m\u001b[39mevaluation\u001b[39;00m \u001b[39mimport\u001b[39;00m evaluate_pipeline\n\u001b[1;32m      3\u001b[0m \u001b[39mfrom\u001b[39;00m \u001b[39mdrfc_manager\u001b[39;00m\u001b[39m.\u001b[39;00m\u001b[39mpipelines\u001b[39;00m\u001b[39m.\u001b[39;00m\u001b[39mviewer\u001b[39;00m \u001b[39mimport\u001b[39;00m start_viewer_pipeline, stop_viewer_pipeline\n",
      "File \u001b[0;32m~/deepracer/drfc-manager/drfc_manager/pipelines/training.py:7\u001b[0m\n\u001b[1;32m      5\u001b[0m \u001b[39mfrom\u001b[39;00m \u001b[39mgloe\u001b[39;00m \u001b[39mimport\u001b[39;00m If, transformer\n\u001b[1;32m      6\u001b[0m \u001b[39mfrom\u001b[39;00m \u001b[39mgloe\u001b[39;00m\u001b[39m.\u001b[39;00m\u001b[39mutils\u001b[39;00m \u001b[39mimport\u001b[39;00m forward\n\u001b[0;32m----> 7\u001b[0m \u001b[39mfrom\u001b[39;00m \u001b[39mdrfc_manager\u001b[39;00m\u001b[39m.\u001b[39;00m\u001b[39mtransformers\u001b[39;00m\u001b[39m.\u001b[39;00m\u001b[39mtraining\u001b[39;00m \u001b[39mimport\u001b[39;00m (\n\u001b[1;32m      8\u001b[0m     create_sagemaker_temp_files, check_if_metadata_is_available,\n\u001b[1;32m      9\u001b[0m     upload_hyperparameters, upload_metadata, upload_reward_function,\n\u001b[1;32m     10\u001b[0m     upload_training_params_file, start_training, expose_config_envs_from_dataclass,\n\u001b[1;32m     11\u001b[0m     check_training_logs_transformer, upload_ip_config\n\u001b[1;32m     12\u001b[0m )\n\u001b[1;32m     13\u001b[0m \u001b[39mfrom\u001b[39;00m \u001b[39mdrfc_manager\u001b[39;00m\u001b[39m.\u001b[39;00m\u001b[39mtransformers\u001b[39;00m\u001b[39m.\u001b[39;00m\u001b[39mgeneral\u001b[39;00m \u001b[39mimport\u001b[39;00m check_if_model_exists_transformer, copy_object, echo, forward_condition\n\u001b[1;32m     14\u001b[0m \u001b[39mfrom\u001b[39;00m \u001b[39mdrfc_manager\u001b[39;00m\u001b[39m.\u001b[39;00m\u001b[39mtypes\u001b[39;00m\u001b[39m.\u001b[39;00m\u001b[39mhyperparameters\u001b[39;00m \u001b[39mimport\u001b[39;00m HyperParameters\n",
      "File \u001b[0;32m~/deepracer/drfc-manager/drfc_manager/transformers/training.py:15\u001b[0m\n\u001b[1;32m     12\u001b[0m \u001b[39mfrom\u001b[39;00m \u001b[39mdrfc_manager\u001b[39;00m\u001b[39m.\u001b[39;00m\u001b[39mtypes\u001b[39;00m\u001b[39m.\u001b[39;00m\u001b[39menv_vars\u001b[39;00m \u001b[39mimport\u001b[39;00m EnvVars\n\u001b[1;32m     13\u001b[0m \u001b[39mfrom\u001b[39;00m \u001b[39mdrfc_manager\u001b[39;00m\u001b[39m.\u001b[39;00m\u001b[39mhelpers\u001b[39;00m\u001b[39m.\u001b[39;00m\u001b[39mtraining_params\u001b[39;00m \u001b[39mimport\u001b[39;00m writing_on_temp_training_yml\n\u001b[0;32m---> 15\u001b[0m \u001b[39mfrom\u001b[39;00m \u001b[39mdrfc_manager\u001b[39;00m\u001b[39m.\u001b[39;00m\u001b[39mutils\u001b[39;00m\u001b[39m.\u001b[39;00m\u001b[39mdocker\u001b[39;00m\u001b[39m.\u001b[39;00m\u001b[39mdocker_manager\u001b[39;00m \u001b[39mimport\u001b[39;00m DockerManager\n\u001b[1;32m     16\u001b[0m \u001b[39mfrom\u001b[39;00m \u001b[39mdrfc_manager\u001b[39;00m\u001b[39m.\u001b[39;00m\u001b[39mutils\u001b[39;00m\u001b[39m.\u001b[39;00m\u001b[39mdocker\u001b[39;00m\u001b[39m.\u001b[39;00m\u001b[39mexceptions\u001b[39;00m\u001b[39m.\u001b[39;00m\u001b[39mbase\u001b[39;00m \u001b[39mimport\u001b[39;00m DockerError\n\u001b[1;32m     17\u001b[0m \u001b[39mfrom\u001b[39;00m \u001b[39mdrfc_manager\u001b[39;00m\u001b[39m.\u001b[39;00m\u001b[39mutils\u001b[39;00m\u001b[39m.\u001b[39;00m\u001b[39mminio\u001b[39;00m\u001b[39m.\u001b[39;00m\u001b[39mstorage_manager\u001b[39;00m \u001b[39mimport\u001b[39;00m MinioStorageManager, StorageError\n",
      "File \u001b[0;32m~/deepracer/drfc-manager/drfc_manager/utils/docker/docker_manager.py:7\u001b[0m\n\u001b[1;32m      4\u001b[0m \u001b[39mimport\u001b[39;00m \u001b[39mtime\u001b[39;00m\n\u001b[1;32m      5\u001b[0m \u001b[39mfrom\u001b[39;00m \u001b[39mtyping\u001b[39;00m \u001b[39mimport\u001b[39;00m List, Tuple, Optional, Dict\n\u001b[0;32m----> 7\u001b[0m \u001b[39mfrom\u001b[39;00m \u001b[39mdrfc_manager\u001b[39;00m\u001b[39m.\u001b[39;00m\u001b[39mconfig\u001b[39;00m \u001b[39mimport\u001b[39;00m settings\n\u001b[1;32m      8\u001b[0m \u001b[39mfrom\u001b[39;00m \u001b[39mdrfc_manager\u001b[39;00m\u001b[39m.\u001b[39;00m\u001b[39mutils\u001b[39;00m\u001b[39m.\u001b[39;00m\u001b[39mdocker\u001b[39;00m\u001b[39m.\u001b[39;00m\u001b[39mexceptions\u001b[39;00m\u001b[39m.\u001b[39;00m\u001b[39mbase\u001b[39;00m \u001b[39mimport\u001b[39;00m DockerError\n\u001b[1;32m      9\u001b[0m \u001b[39mfrom\u001b[39;00m \u001b[39mdrfc_manager\u001b[39;00m\u001b[39m.\u001b[39;00m\u001b[39mutils\u001b[39;00m\u001b[39m.\u001b[39;00m\u001b[39mredis\u001b[39;00m\u001b[39m.\u001b[39;00m\u001b[39mmanager\u001b[39;00m \u001b[39mimport\u001b[39;00m RedisManager\n",
      "File \u001b[0;32m~/deepracer/drfc-manager/drfc_manager/config.py:2\u001b[0m\n\u001b[1;32m      1\u001b[0m \u001b[39mfrom\u001b[39;00m \u001b[39mtyping\u001b[39;00m \u001b[39mimport\u001b[39;00m Optional\n\u001b[0;32m----> 2\u001b[0m \u001b[39mfrom\u001b[39;00m \u001b[39mpydantic_settings\u001b[39;00m \u001b[39mimport\u001b[39;00m BaseSettings, SettingsConfigDict\n\u001b[1;32m      3\u001b[0m \u001b[39mfrom\u001b[39;00m \u001b[39mpydantic\u001b[39;00m \u001b[39mimport\u001b[39;00m Field, DirectoryPath, HttpUrl, validator\n\u001b[1;32m      5\u001b[0m \u001b[39m# Load .env file if it exists\u001b[39;00m\n",
      "\u001b[0;31mModuleNotFoundError\u001b[0m: No module named 'pydantic_settings'"
     ]
    }
   ],
   "source": [
    "from drfc_manager.pipelines import (\n",
    "    train_pipeline, stop_training_pipeline, clone_pipeline,\n",
    "    start_viewer_pipeline, stop_viewer_pipeline,\n",
    "    start_metrics_pipeline, stop_metrics_pipeline\n",
    ")\n",
    "\n",
    "from drfc_manager.types.hyperparameters import HyperParameters\n",
    "from drfc_manager.types.model_metadata import ModelMetadata"
   ]
  },
  {
   "cell_type": "markdown",
   "id": "7390673703d0b582",
   "metadata": {},
   "source": [
    "## 2. Model Configuration"
   ]
  },
  {
   "cell_type": "code",
   "execution_count": 9,
   "id": "dc093ea3a87c4a76",
   "metadata": {},
   "outputs": [],
   "source": [
    "# Define a unique model name\n",
    "model_name = 'rl-deepracer-jv'\n",
    "\n",
    "# Create default hyperparameters and model metadata\n",
    "hyperparameters = HyperParameters()\n",
    "model_metadata = ModelMetadata()"
   ]
  },
  {
   "cell_type": "code",
   "execution_count": 10,
   "id": "dfedd3608f3df109",
   "metadata": {},
   "outputs": [
    {
     "data": {
      "text/plain": [
       "HyperParameters(batch_size=64, beta_entropy=0.01, discount_factor=0.999, e_greedy_value=0.05, epsilon_steps=10000, exploration_type=<ExplorationType.CATEGORICAL: 'categorical'>, loss_type=<LossType.HUBER: 'huber'>, lr=0.0003, num_episodes_between_training=40, num_epochs=3, stack_size=1, term_cond_avg_score=100000, term_cond_max_episodes=100000)"
      ]
     },
     "execution_count": 10,
     "metadata": {},
     "output_type": "execute_result"
    }
   ],
   "source": [
    "# Display the hyperparameters\n",
    "hyperparameters"
   ]
  },
  {
   "cell_type": "code",
   "execution_count": 11,
   "id": "6efa625cad6135b2",
   "metadata": {},
   "outputs": [
    {
     "data": {
      "text/plain": [
       "ModelMetadata(action_space_type=<ActionSpaceType.CONTINUOUS: 'continuous'>, action_space=ContinuousActionSpace(steering_angle=SteeringAngle(high=30.0, low=-30.0), speed=Speed(high=4.0, low=1.0)), version=5, training_algorithm=<TrainingAlgorithm.PPO: 'clipped_ppo'>, neural_network=<NeuralNetwork.DEEP_CONVOLUTIONAL_NETWORK_SHALLOW: 'DEEP_CONVOLUTIONAL_NETWORK_SHALLOW'>, sensor=[<Sensor.FRONT_FACING_CAMERA: 'FRONT_FACING_CAMERA'>])"
      ]
     },
     "execution_count": 11,
     "metadata": {},
     "output_type": "execute_result"
    }
   ],
   "source": [
    "# Display the model metadata\n",
    "model_metadata"
   ]
  },
  {
   "cell_type": "code",
   "execution_count": 12,
   "id": "2aeda5a8e1768361",
   "metadata": {},
   "outputs": [],
   "source": [
    "def reward_function(params):\n",
    "    \"\"\"\n",
    "    Example of a reward function for DeepRacer.\n",
    "    \n",
    "    Args:\n",
    "        params (dict): Input parameters from the simulator\n",
    "        \n",
    "    Returns:\n",
    "        float: The reward value\n",
    "    \"\"\"\n",
    "    # Give a high reward by default\n",
    "    reward = 1.0\n",
    "    \n",
    "    # Get track parameters\n",
    "    all_wheels_on_track = params.get('all_wheels_on_track', True)\n",
    "    distance_from_center = params.get('distance_from_center', 0)\n",
    "    track_width = params.get('track_width', 1)\n",
    "    \n",
    "    # Calculate 3 markers that are at varying distances from the center line\n",
    "    marker_1 = 0.1 * track_width\n",
    "    marker_2 = 0.25 * track_width\n",
    "    marker_3 = 0.5 * track_width\n",
    "    \n",
    "    # Give higher reward if the car is closer to center line and vice versa\n",
    "    if distance_from_center <= marker_1:\n",
    "        reward = 1.0\n",
    "    elif distance_from_center <= marker_2:\n",
    "        reward = 0.5\n",
    "    elif distance_from_center <= marker_3:\n",
    "        reward = 0.1\n",
    "    else:\n",
    "        reward = 1e-3  # likely crashed/ close to off track\n",
    "        \n",
    "    # Penalize if the car goes off track\n",
    "    if not all_wheels_on_track:\n",
    "        reward = 1e-3\n",
    "        \n",
    "    return float(reward)"
   ]
  },
  {
   "cell_type": "markdown",
   "id": "92b0e9d55b34174",
   "metadata": {},
   "source": [
    "## 3. Pipeline Operations"
   ]
  },
  {
   "cell_type": "markdown",
   "id": "255de14139b2f1d7",
   "metadata": {},
   "source": [
    "### 3.1 Training Pipeline"
   ]
  },
  {
   "cell_type": "code",
   "execution_count": 13,
   "id": "3d14691e9fccfcb9",
   "metadata": {},
   "outputs": [
    {
     "name": "stdout",
     "output_type": "stream",
     "text": [
      "Starting training pipeline for model: rl-deepracer-jv, Run ID: 0\n",
      "Model prefix rl-deepracer-jv/ does not exist. Proceeding.\n",
      "Successfully uploaded custom_files/hyperparameters.json to bucket bucket\n",
      "Successfully uploaded custom_files/model_metadata.json to bucket bucket\n",
      "Successfully uploaded custom_files/reward_function.py to bucket bucket\n",
      "Data uploaded successfully to custom files\n",
      "Data uploaded successfully to custom files\n",
      "Successfully copied custom_files/reward_function.py to rl-deepracer-jv/reward_function.py\n",
      "The reward function copied successfully to models folder at rl-deepracer-jv/reward_function.py\n",
      "The reward function copied successfully to models folder at rl-deepracer-jv/reward_function.py\n",
      "Generating local training_params.yaml...\n",
      "Generated /tmp/dr/training-params-20250524175021.yaml, uploading to rl-deepracer-jv/training_params.yaml\n",
      "Successfully uploaded local file /tmp/dr/training-params-20250524175021.yaml to rl-deepracer-jv/training_params.yaml\n",
      "Verified: Training params file exists at rl-deepracer-jv/training_params.yaml\n",
      "Cleaned up local file: /tmp/dr/training-params-20250524175021.yaml\n",
      "Upload successfully the RoboMaker training configurations\n",
      "Upload successfully the RoboMaker training configurations\n",
      "Successfully uploaded rl-deepracer-jv/ip/ip.json to bucket bucket\n",
      "Successfully uploaded rl-deepracer-jv/ip/done to bucket bucket\n",
      "Uploaded Redis IP config to rl-deepracer-jv/ip/ip.json and done flag to rl-deepracer-jv/ip/done\n",
      "Loaded DR_* vars for model 'rl-deepracer-jv' into current process environment.\n",
      "Starting model training\n",
      "Starting model training\n",
      "Attempting to start DeepRacer Docker stack...\n",
      "Cleaning up previous run for project deepracer-0...\n",
      "Pruning unused Docker resources...\n",
      "Starting DeepRacer stack for project deepracer-0 with 1 workers...\n",
      "Created modified compose file with Redis at /tmp/docker-compose-training-redis-98msyp5i.yml\n",
      "Using compose files: ['/tmp/docker-compose-training-redis-98msyp5i.yml', '/home/insightlab/deepracer/drfc-manager/config/drfc-images/docker-compose-keys.yml', '/home/insightlab/deepracer/drfc-manager/config/drfc-images/docker-compose-endpoint.yml']\n",
      "ROBOMAKER_COMMAND set to: /opt/simapp/run.sh run distributed_training.launch\n",
      "Cleaned up temporary file /tmp/docker-compose-training-redis-98msyp5i.yml\n",
      "Checking container status...\n",
      "Found running RoboMaker containers: 1\n",
      "Successfully started 1 RoboMaker workers.\n",
      "DeepRacer Docker stack started successfully.\n",
      "Docker stack started.\n",
      "Docker stack started.\n",
      "Skipping log check.\n",
      "Skipping log check.\n",
      "Training pipeline finished.\n"
     ]
    }
   ],
   "source": [
    "# Start training with our model configuration\n",
    "train_pipeline(\n",
    "    model_name=model_name,\n",
    "    hyperparameters=hyperparameters,\n",
    "    model_metadata=model_metadata,\n",
    "    reward_function=reward_function,\n",
    "    overwrite=True,\n",
    "    quiet=False\n",
    ")"
   ]
  },
  {
   "cell_type": "code",
   "execution_count": 7,
   "id": "30990808",
   "metadata": {},
   "outputs": [
    {
     "name": "stdout",
     "output_type": "stream",
     "text": [
      "Attempting to stop training stack...\n",
      "Targeting Run ID: 0\n",
      "Cleaning up previous run for project deepracer-0...\n",
      "Training stack stopped successfully.\n"
     ]
    }
   ],
   "source": [
    "stop_training_pipeline()"
   ]
  },
  {
   "cell_type": "markdown",
   "id": "446fcdde",
   "metadata": {},
   "source": [
    "### 3.1.2 - Cloning your model"
   ]
  },
  {
   "cell_type": "code",
   "execution_count": 2,
   "id": "9ef8a131",
   "metadata": {},
   "outputs": [],
   "source": [
    "def reward_function_base_reward(params):\n",
    "    \"\"\"\n",
    "    Example of a reward function for DeepRacer.\n",
    "    \n",
    "    Args:\n",
    "        params (dict): Input parameters from the simulator\n",
    "        \n",
    "    Returns:\n",
    "        float: The reward value\n",
    "    \"\"\"\n",
    "    # Give a high reward by default\n",
    "    reward = 1.0\n",
    "    \n",
    "    # ...\n",
    "        \n",
    "    return float(reward)"
   ]
  },
  {
   "cell_type": "code",
   "execution_count": 3,
   "id": "38f484d8",
   "metadata": {},
   "outputs": [],
   "source": [
    "from drfc_manager.types.model_metadata import NeuralNetwork\n",
    "\n",
    "hyperparameters_base_reward = HyperParameters(batch_size=128)\n",
    "model_metadata_base_reward = ModelMetadata(neural_network=NeuralNetwork.DEEP_CONVOLUTIONAL_NETWORK_DEEP)"
   ]
  },
  {
   "cell_type": "code",
   "execution_count": null,
   "id": "3057ebb0",
   "metadata": {},
   "outputs": [],
   "source": [
    "clone_pipeline(\n",
    "    'rl-deepracer-jv',\n",
    "    wipe_target=True,\n",
    "    custom_hyperparameters=hyperparameters_base_reward,\n",
    "    custom_model_metadata=model_metadata_base_reward,\n",
    "    custom_reward_function=reward_function_base_reward\n",
    ")"
   ]
  },
  {
   "cell_type": "code",
   "execution_count": 11,
   "id": "c53bfdbb",
   "metadata": {},
   "outputs": [],
   "source": [
    "stop_training_pipeline()"
   ]
  },
  {
   "cell_type": "markdown",
   "id": "viewer-section",
   "metadata": {},
   "source": [
    "## 3.2 Viewer Pipeline"
   ]
  },
  {
   "cell_type": "code",
   "execution_count": 14,
   "id": "start-viewer",
   "metadata": {},
   "outputs": [
    {
     "ename": "KeyError",
     "evalue": "'viewer_url'",
     "output_type": "error",
     "traceback": [
      "\u001b[31m---------------------------------------------------------------------------\u001b[39m",
      "\u001b[31mKeyError\u001b[39m                                  Traceback (most recent call last)",
      "\u001b[36mCell\u001b[39m\u001b[36m \u001b[39m\u001b[32mIn[14]\u001b[39m\u001b[32m, line 2\u001b[39m\n\u001b[32m      1\u001b[39m result = start_viewer_pipeline(delay=\u001b[32m0\u001b[39m)\n\u001b[32m----> \u001b[39m\u001b[32m2\u001b[39m \u001b[38;5;28mprint\u001b[39m(\u001b[33mf\u001b[39m\u001b[33m\"\u001b[39m\u001b[33mView the training process at: \u001b[39m\u001b[38;5;132;01m{\u001b[39;00m\u001b[43mresult\u001b[49m\u001b[43m[\u001b[49m\u001b[33;43m'\u001b[39;49m\u001b[33;43mviewer_url\u001b[39;49m\u001b[33;43m'\u001b[39;49m\u001b[43m]\u001b[49m\u001b[38;5;132;01m}\u001b[39;00m\u001b[33m\"\u001b[39m)\n",
      "\u001b[31mKeyError\u001b[39m: 'viewer_url'"
     ]
    }
   ],
   "source": [
    "result = start_viewer_pipeline(delay=0)\n",
    "print(f\"View the training process at: {result['viewer_url']}\")"
   ]
  },
  {
   "cell_type": "code",
   "execution_count": 10,
   "id": "d558ee95",
   "metadata": {},
   "outputs": [
    {
     "data": {
      "text/plain": [
       "{'status': 'success', 'message': 'Viewer and proxy processes stopped.'}"
      ]
     },
     "execution_count": 10,
     "metadata": {},
     "output_type": "execute_result"
    }
   ],
   "source": [
    "stop_viewer_pipeline()"
   ]
  },
  {
   "cell_type": "markdown",
   "id": "93526b20",
   "metadata": {},
   "source": [
    "## 3.3 Grafana Pipeline"
   ]
  },
  {
   "cell_type": "code",
   "execution_count": 8,
   "id": "ee6e4131",
   "metadata": {},
   "outputs": [
    {
     "name": "stderr",
     "output_type": "stream",
     "text": [
      "time=\"2025-05-24T16:01:45-03:00\" level=warning msg=\"/home/insightlab/deepracer/drfc-manager/config/drfc-images/docker-compose-metrics.yml: the attribute `version` is obsolete, it will be ignored, please remove it to avoid potential confusion\"\n",
      " Container deepracer-metrics-influxdb-1  Creating\n",
      " Container deepracer-metrics-influxdb-1  Created\n",
      " Container deepracer-metrics-telegraf-1  Creating\n",
      " Container deepracer-metrics-grafana-1  Creating\n",
      " Container deepracer-metrics-telegraf-1  Created\n",
      " Container deepracer-metrics-grafana-1  Created\n",
      " Container deepracer-metrics-influxdb-1  Starting\n",
      " Container deepracer-metrics-influxdb-1  Started\n",
      " Container deepracer-metrics-telegraf-1  Starting\n",
      " Container deepracer-metrics-grafana-1  Starting\n",
      " Container deepracer-metrics-grafana-1  Started\n",
      " Container deepracer-metrics-telegraf-1  Started\n"
     ]
    },
    {
     "data": {
      "text/plain": [
       "MetricsResult(status='success', error=None, error_type=None, grafana_url='http://localhost:3000', credentials={'username': 'admin', 'password': 'admin'}, log_file='/tmp/drfc_logs/drfc_20250524_160145.log', message=None)"
      ]
     },
     "execution_count": 8,
     "metadata": {},
     "output_type": "execute_result"
    }
   ],
   "source": [
    "start_metrics_pipeline()"
   ]
  },
  {
   "cell_type": "code",
   "execution_count": 9,
   "id": "5a35607a",
   "metadata": {},
   "outputs": [
    {
     "name": "stderr",
     "output_type": "stream",
     "text": [
      "time=\"2025-05-24T16:02:15-03:00\" level=warning msg=\"/home/insightlab/deepracer/drfc-manager/config/drfc-images/docker-compose-metrics.yml: the attribute `version` is obsolete, it will be ignored, please remove it to avoid potential confusion\"\n",
      " Container deepracer-metrics-telegraf-1  Stopping\n",
      " Container deepracer-metrics-grafana-1  Stopping\n",
      " Container deepracer-metrics-grafana-1  Stopped\n",
      " Container deepracer-metrics-grafana-1  Removing\n",
      " Container deepracer-metrics-grafana-1  Removed\n",
      " Container deepracer-metrics-telegraf-1  Stopped\n",
      " Container deepracer-metrics-telegraf-1  Removing\n",
      " Container deepracer-metrics-telegraf-1  Removed\n",
      " Container deepracer-metrics-influxdb-1  Stopping\n",
      " Container deepracer-metrics-influxdb-1  Stopped\n",
      " Container deepracer-metrics-influxdb-1  Removing\n",
      " Container deepracer-metrics-influxdb-1  Removed\n"
     ]
    },
    {
     "data": {
      "text/plain": [
       "MetricsResult(status='success', error=None, error_type=None, grafana_url=None, credentials=None, log_file=None, message='Metrics stack stopped successfully')"
      ]
     },
     "execution_count": 9,
     "metadata": {},
     "output_type": "execute_result"
    }
   ],
   "source": [
    "stop_metrics_pipeline()"
   ]
  }
 ],
 "metadata": {
  "kernelspec": {
   "display_name": "Python 3 (ipykernel)",
   "language": "python",
   "name": "python3"
  },
  "language_info": {
   "codemirror_mode": {
    "name": "ipython",
    "version": 3
   },
   "file_extension": ".py",
   "mimetype": "text/x-python",
   "name": "python",
   "nbconvert_exporter": "python",
   "pygments_lexer": "ipython3",
   "version": "3.10.12"
  }
 },
 "nbformat": 4,
 "nbformat_minor": 5
}
