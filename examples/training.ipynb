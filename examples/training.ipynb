{
 "cells": [
  {
   "cell_type": "markdown",
   "id": "16af81850f057780",
   "metadata": {},
   "source": [
    "# Training Pipeline Example"
   ]
  },
  {
   "cell_type": "markdown",
   "id": "3d6cc6198b704696",
   "metadata": {},
   "source": [
    "## 1. Imports"
   ]
  },
  {
   "cell_type": "code",
   "id": "initial_id",
   "metadata": {
    "collapsed": true,
    "ExecuteTime": {
     "end_time": "2025-03-31T02:24:36.137400Z",
     "start_time": "2025-03-31T02:24:34.515292Z"
    }
   },
   "source": [
    "%reload_ext dotenv\n",
    "%dotenv\n",
    "\n",
    "import warnings\n",
    "warnings.filterwarnings(action='ignore', module='.*paramiko.*')\n",
    "\n",
    "import os\n",
    "\n",
    "from src.training_pipeline import train_pipeline\n",
    "import io\n",
    "\n",
    "from src.types.hyperparameters import HyperParameters\n",
    "from src.types.model_metadata import ModelMetadata"
   ],
   "outputs": [],
   "execution_count": 1
  },
  {
   "metadata": {},
   "cell_type": "markdown",
   "source": "## 2. Defining model parameters and reward function",
   "id": "7390673703d0b582"
  },
  {
   "metadata": {
    "ExecuteTime": {
     "end_time": "2025-03-31T02:24:36.143754Z",
     "start_time": "2025-03-31T02:24:36.141382Z"
    }
   },
   "cell_type": "code",
   "source": [
    "# Default values set from official documentation\n",
    "model_name = 'rl-deepracer-sagemaker'\n",
    "hyperparameters = HyperParameters()\n",
    "model_metadata = ModelMetadata()"
   ],
   "id": "dc093ea3a87c4a76",
   "outputs": [],
   "execution_count": 2
  },
  {
   "metadata": {
    "ExecuteTime": {
     "end_time": "2025-03-31T02:24:36.249767Z",
     "start_time": "2025-03-31T02:24:36.246661Z"
    }
   },
   "cell_type": "code",
   "source": "hyperparameters",
   "id": "dfedd3608f3df109",
   "outputs": [
    {
     "data": {
      "text/plain": [
       "HyperParameters(batch_size=64, beta_entropy=0.01, discount_factor=0.999, e_greedy_value=0.05, epsilon_steps=10000, exploration_type=<ExplorationType.CATEGORICAL: 'categorical'>, loss_type=<LossType.HUBER: 'huber'>, lr=0.0003, num_episodes_between_training=40, num_epochs=3, stack_size=1, term_cond_avg_score=100000, term_cond_max_episodes=100000)"
      ]
     },
     "execution_count": 3,
     "metadata": {},
     "output_type": "execute_result"
    }
   ],
   "execution_count": 3
  },
  {
   "metadata": {
    "ExecuteTime": {
     "end_time": "2025-03-31T02:24:36.255984Z",
     "start_time": "2025-03-31T02:24:36.253969Z"
    }
   },
   "cell_type": "code",
   "source": "model_metadata",
   "id": "6efa625cad6135b2",
   "outputs": [
    {
     "data": {
      "text/plain": [
       "ModelMetadata(action_space_type=<ActionSpaceType.CONTINUOUS: 'continuous'>, action_space=ContinuousActionSpace(steering_angle=SteeringAngle(high=30.0, low=-30.0), speed=Speed(high=4.0, low=1.0)), version=5, training_algorithm=<TrainingAlgorithm.PPO: 'ppo'>, neural_network=<NeuralNetwork.DEEP_CONVOLUTIONAL_NETWORK_SHALLOW: 'DEEP_CONVOLUTIONAL_NETWORK_SHALLOW'>, sensor=[<Sensor.FRONT_FACING_CAMERA: 'FRONT_FACING_CAMERA'>])"
      ]
     },
     "execution_count": 4,
     "metadata": {},
     "output_type": "execute_result"
    }
   ],
   "execution_count": 4
  },
  {
   "metadata": {
    "ExecuteTime": {
     "end_time": "2025-03-31T02:24:36.288792Z",
     "start_time": "2025-03-31T02:24:36.286953Z"
    }
   },
   "cell_type": "code",
   "source": [
    "def reward_function(params):\n",
    "  reward = 1.0\n",
    "  return float(reward)"
   ],
   "id": "2aeda5a8e1768361",
   "outputs": [],
   "execution_count": 5
  },
  {
   "metadata": {},
   "cell_type": "markdown",
   "source": "## 3. Pipelines",
   "id": "92b0e9d55b34174"
  },
  {
   "metadata": {},
   "cell_type": "markdown",
   "source": "### Training",
   "id": "255de14139b2f1d7"
  },
  {
   "metadata": {
    "ExecuteTime": {
     "end_time": "2025-03-31T02:25:43.210259Z",
     "start_time": "2025-03-31T02:25:39.555430Z"
    }
   },
   "cell_type": "code",
   "source": [
    "train_pipeline(\n",
    "  model_name=model_name,\n",
    "  hyperparameters=hyperparameters,\n",
    "  model_metadata=model_metadata,\n",
    "  reward_function=reward_function\n",
    ")"
   ],
   "id": "3d14691e9fccfcb9",
   "outputs": [
    {
     "name": "stdout",
     "output_type": "stream",
     "text": [
      "Data uploaded successfully to custom files\n",
      "The reward function copied successfully to models folder at rl-deepracer-sagemaker/reward_function.py\n",
      "Upload successfully the RoboMaker training configurations\n"
     ]
    }
   ],
   "execution_count": 7
  },
  {
   "metadata": {},
   "cell_type": "code",
   "outputs": [],
   "execution_count": null,
   "source": "",
   "id": "701958174c47906c"
  }
 ],
 "metadata": {
  "kernelspec": {
   "display_name": "drfc-manager",
   "language": "python",
   "name": "python3"
  },
  "language_info": {
   "codemirror_mode": {
    "name": "ipython",
    "version": 3
   },
   "file_extension": ".py",
   "mimetype": "text/x-python",
   "name": "python",
   "nbconvert_exporter": "python",
   "pygments_lexer": "ipython3",
   "version": "3.11.11"
  }
 },
 "nbformat": 4,
 "nbformat_minor": 5
}
