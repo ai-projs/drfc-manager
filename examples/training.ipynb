{
 "cells": [
  {
   "cell_type": "markdown",
   "id": "16af81850f057780",
   "metadata": {},
   "source": [
    "# DeepRacer Complete Pipeline Example"
   ]
  },
  {
   "cell_type": "markdown",
   "id": "3d6cc6198b704696",
   "metadata": {},
   "source": [
    "## 1. Imports"
   ]
  },
  {
   "cell_type": "code",
   "execution_count": null,
   "id": "initial_id",
   "metadata": {},
   "outputs": [
    {
     "name": "stdout",
     "output_type": "stream",
     "text": [
      "Using existing MinIO bucket: tcc-experiments\n",
      "Using existing MinIO bucket: tcc-experiments\n",
      "Using existing MinIO bucket: tcc-experiments\n",
      "Using existing MinIO bucket: tcc-experiments\n",
      "Using existing MinIO bucket: tcc-experiments\n",
      "Viewer pipeline logging configured to file: /tmp/viewer_pipeline.log\n"
     ]
    },
    {
     "name": "stderr",
     "output_type": "stream",
     "text": [
      "/home/insightlab/miniconda3/envs/drfc/lib/python3.11/site-packages/gloe/functional.py:177: RuntimeWarning: Only one parameter is allowed on Transformers. Function 'setup_upload_env' has the following signature: (_, source_model_name: str, target_model_name: Optional[str] = None, wipe: bool = False, force: bool = False). To pass a complex data, use a complex type like named tuples, typed dicts, dataclasses or anything else.\n",
      "  warnings.warn(\n"
     ]
    }
   ],
   "source": [
    "%reload_ext dotenv\n",
    "%dotenv\n",
    "\n",
    "import warnings\n",
    "warnings.filterwarnings(action='ignore', module='.*paramiko.*')\n",
    "\n",
    "from src.training_pipeline import train_pipeline, stop_training_pipeline\n",
    "from src.viewer_pipeline import start_viewer_pipeline, stop_viewer_pipeline\n",
    "\n",
    "from src.types.hyperparameters import HyperParameters\n",
    "from src.types.model_metadata import ModelMetadata\n",
    "from src.config import settings"
   ]
  },
  {
   "cell_type": "markdown",
   "id": "7390673703d0b582",
   "metadata": {},
   "source": [
    "## 2. Model Configuration"
   ]
  },
  {
   "cell_type": "code",
   "execution_count": 2,
   "id": "dc093ea3a87c4a76",
   "metadata": {},
   "outputs": [],
   "source": [
    "# Define a unique model name\n",
    "model_name = 'rl-deepracer-demo'\n",
    "\n",
    "# Create default hyperparameters and model metadata\n",
    "hyperparameters = HyperParameters()\n",
    "model_metadata = ModelMetadata()"
   ]
  },
  {
   "cell_type": "code",
   "execution_count": null,
   "id": "dfedd3608f3df109",
   "metadata": {},
   "outputs": [],
   "source": [
    "# Display the hyperparameters\n",
    "hyperparameters"
   ]
  },
  {
   "cell_type": "code",
   "execution_count": null,
   "id": "6efa625cad6135b2",
   "metadata": {},
   "outputs": [],
   "source": [
    "# Display the model metadata\n",
    "model_metadata"
   ]
  },
  {
   "cell_type": "code",
   "execution_count": 6,
   "id": "2aeda5a8e1768361",
   "metadata": {},
   "outputs": [],
   "source": [
    "def reward_function(params):\n",
    "    \"\"\"\n",
    "    Example of a reward function for DeepRacer.\n",
    "    \n",
    "    Args:\n",
    "        params (dict): Input parameters from the simulator\n",
    "        \n",
    "    Returns:\n",
    "        float: The reward value\n",
    "    \"\"\"\n",
    "    # Give a high reward by default\n",
    "    reward = 1.0\n",
    "    \n",
    "    # Get track parameters\n",
    "    all_wheels_on_track = params.get('all_wheels_on_track', True)\n",
    "    distance_from_center = params.get('distance_from_center', 0)\n",
    "    track_width = params.get('track_width', 1)\n",
    "    \n",
    "    # Calculate 3 markers that are at varying distances from the center line\n",
    "    marker_1 = 0.1 * track_width\n",
    "    marker_2 = 0.25 * track_width\n",
    "    marker_3 = 0.5 * track_width\n",
    "    \n",
    "    # Give higher reward if the car is closer to center line and vice versa\n",
    "    if distance_from_center <= marker_1:\n",
    "        reward = 1.0\n",
    "    elif distance_from_center <= marker_2:\n",
    "        reward = 0.5\n",
    "    elif distance_from_center <= marker_3:\n",
    "        reward = 0.1\n",
    "    else:\n",
    "        reward = 1e-3  # likely crashed/ close to off track\n",
    "        \n",
    "    # Penalize if the car goes off track\n",
    "    if not all_wheels_on_track:\n",
    "        reward = 1e-3\n",
    "        \n",
    "    return float(reward)"
   ]
  },
  {
   "cell_type": "markdown",
   "id": "92b0e9d55b34174",
   "metadata": {},
   "source": [
    "## 3. Pipeline Operations"
   ]
  },
  {
   "cell_type": "markdown",
   "id": "255de14139b2f1d7",
   "metadata": {},
   "source": [
    "### 3.1 Training Pipeline"
   ]
  },
  {
   "cell_type": "code",
   "execution_count": null,
   "id": "129ac34e",
   "metadata": {},
   "outputs": [],
   "source": [
    "# First stop any existing training\n",
    "stop_training_pipeline()"
   ]
  },
  {
   "cell_type": "code",
   "execution_count": null,
   "id": "3d14691e9fccfcb9",
   "metadata": {},
   "outputs": [],
   "source": [
    "# Start training with our model configuration\n",
    "train_pipeline(\n",
    "    model_name=model_name,\n",
    "    hyperparameters=hyperparameters,\n",
    "    model_metadata=model_metadata,\n",
    "    reward_function=reward_function,\n",
    "    overwrite=True,\n",
    "    check_logs_after_start=False\n",
    ")"
   ]
  },
  {
   "cell_type": "markdown",
   "id": "viewer-section",
   "metadata": {},
   "source": [
    "### 3.2 Viewer Pipeline"
   ]
  },
  {
   "cell_type": "code",
   "execution_count": null,
   "id": "start-viewer",
   "metadata": {},
   "outputs": [],
   "source": [
    "result = start_viewer_pipeline(delay=0)\n",
    "print(f\"View the training process at: {result['viewer_url']}\")"
   ]
  },
  {
   "cell_type": "code",
   "execution_count": null,
   "id": "d558ee95",
   "metadata": {},
   "outputs": [],
   "source": [
    "stop_viewer_pipeline()"
   ]
  }
 ],
 "metadata": {
  "kernelspec": {
   "display_name": "Python 3 (ipykernel)",
   "language": "python",
   "name": "python3"
  },
  "language_info": {
   "codemirror_mode": {
    "name": "ipython",
    "version": 3
   },
   "file_extension": ".py",
   "mimetype": "text/x-python",
   "name": "python",
   "nbconvert_exporter": "python",
   "pygments_lexer": "ipython3",
   "version": "3.10.12"
  }
 },
 "nbformat": 4,
 "nbformat_minor": 5
}
