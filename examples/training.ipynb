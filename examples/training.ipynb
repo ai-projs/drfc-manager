{
 "cells": [
  {
   "cell_type": "markdown",
   "id": "16af81850f057780",
   "metadata": {},
   "source": [
    "# DeepRacer Complete Pipeline Example"
   ]
  },
  {
   "cell_type": "markdown",
   "id": "3d6cc6198b704696",
   "metadata": {},
   "source": [
    "## 1. Imports"
   ]
  },
  {
   "cell_type": "code",
   "execution_count": 2,
   "id": "initial_id",
   "metadata": {},
   "outputs": [
    {
     "name": "stderr",
     "output_type": "stream",
     "text": [
      "2025-05-19 11:30:22 - viewer_pipeline - INFO - Viewer pipeline logging configured to file: /tmp/viewer_pipeline.log\n"
     ]
    }
   ],
   "source": [
    "from src.pipelines import (\n",
    "    train_pipeline, stop_training_pipeline, clone_pipeline,\n",
    "    start_viewer_pipeline, stop_viewer_pipeline\n",
    ")\n",
    "\n",
    "from src.types.hyperparameters import HyperParameters\n",
    "from src.types.model_metadata import ModelMetadata"
   ]
  },
  {
   "cell_type": "markdown",
   "id": "7390673703d0b582",
   "metadata": {},
   "source": [
    "## 2. Model Configuration"
   ]
  },
  {
   "cell_type": "code",
   "execution_count": 2,
   "id": "dc093ea3a87c4a76",
   "metadata": {},
   "outputs": [],
   "source": [
    "# Define a unique model name\n",
    "model_name = 'rl-deepracer-jv'\n",
    "\n",
    "# Create default hyperparameters and model metadata\n",
    "hyperparameters = HyperParameters()\n",
    "model_metadata = ModelMetadata()"
   ]
  },
  {
   "cell_type": "code",
   "execution_count": 3,
   "id": "dfedd3608f3df109",
   "metadata": {},
   "outputs": [
    {
     "data": {
      "text/plain": [
       "HyperParameters(batch_size=64, beta_entropy=0.01, discount_factor=0.999, e_greedy_value=0.05, epsilon_steps=10000, exploration_type=<ExplorationType.CATEGORICAL: 'categorical'>, loss_type=<LossType.HUBER: 'huber'>, lr=0.0003, num_episodes_between_training=40, num_epochs=3, stack_size=1, term_cond_avg_score=100000, term_cond_max_episodes=100000)"
      ]
     },
     "execution_count": 3,
     "metadata": {},
     "output_type": "execute_result"
    }
   ],
   "source": [
    "# Display the hyperparameters\n",
    "hyperparameters"
   ]
  },
  {
   "cell_type": "code",
   "execution_count": 4,
   "id": "6efa625cad6135b2",
   "metadata": {},
   "outputs": [
    {
     "data": {
      "text/plain": [
       "ModelMetadata(action_space_type=<ActionSpaceType.CONTINUOUS: 'continuous'>, action_space=ContinuousActionSpace(steering_angle=SteeringAngle(high=30.0, low=-30.0), speed=Speed(high=4.0, low=1.0)), version=5, training_algorithm=<TrainingAlgorithm.PPO: 'clipped_ppo'>, neural_network=<NeuralNetwork.DEEP_CONVOLUTIONAL_NETWORK_SHALLOW: 'DEEP_CONVOLUTIONAL_NETWORK_SHALLOW'>, sensor=[<Sensor.FRONT_FACING_CAMERA: 'FRONT_FACING_CAMERA'>])"
      ]
     },
     "execution_count": 4,
     "metadata": {},
     "output_type": "execute_result"
    }
   ],
   "source": [
    "# Display the model metadata\n",
    "model_metadata"
   ]
  },
  {
   "cell_type": "code",
   "execution_count": 5,
   "id": "2aeda5a8e1768361",
   "metadata": {},
   "outputs": [],
   "source": [
    "def reward_function(params):\n",
    "    \"\"\"\n",
    "    Example of a reward function for DeepRacer.\n",
    "    \n",
    "    Args:\n",
    "        params (dict): Input parameters from the simulator\n",
    "        \n",
    "    Returns:\n",
    "        float: The reward value\n",
    "    \"\"\"\n",
    "    # Give a high reward by default\n",
    "    reward = 1.0\n",
    "    \n",
    "    # Get track parameters\n",
    "    all_wheels_on_track = params.get('all_wheels_on_track', True)\n",
    "    distance_from_center = params.get('distance_from_center', 0)\n",
    "    track_width = params.get('track_width', 1)\n",
    "    \n",
    "    # Calculate 3 markers that are at varying distances from the center line\n",
    "    marker_1 = 0.1 * track_width\n",
    "    marker_2 = 0.25 * track_width\n",
    "    marker_3 = 0.5 * track_width\n",
    "    \n",
    "    # Give higher reward if the car is closer to center line and vice versa\n",
    "    if distance_from_center <= marker_1:\n",
    "        reward = 1.0\n",
    "    elif distance_from_center <= marker_2:\n",
    "        reward = 0.5\n",
    "    elif distance_from_center <= marker_3:\n",
    "        reward = 0.1\n",
    "    else:\n",
    "        reward = 1e-3  # likely crashed/ close to off track\n",
    "        \n",
    "    # Penalize if the car goes off track\n",
    "    if not all_wheels_on_track:\n",
    "        reward = 1e-3\n",
    "        \n",
    "    return float(reward)"
   ]
  },
  {
   "cell_type": "markdown",
   "id": "92b0e9d55b34174",
   "metadata": {},
   "source": [
    "## 3. Pipeline Operations"
   ]
  },
  {
   "cell_type": "markdown",
   "id": "255de14139b2f1d7",
   "metadata": {},
   "source": [
    "### 3.1 Training Pipeline"
   ]
  },
  {
   "cell_type": "code",
   "execution_count": 6,
   "id": "3d14691e9fccfcb9",
   "metadata": {},
   "outputs": [
    {
     "name": "stdout",
     "output_type": "stream",
     "text": [
      "Starting training pipeline for model: rl-deepracer-jv, Run ID: 0\n",
      "Model prefix rl-deepracer-jv/ does not exist. Proceeding.\n",
      "Successfully uploaded custom_files/hyperparameters.json to bucket bucket\n",
      "Successfully uploaded custom_files/model_metadata.json to bucket bucket\n",
      "Successfully uploaded custom_files/reward_function.py to bucket bucket\n",
      "Data uploaded successfully to custom files\n",
      "Data uploaded successfully to custom files\n",
      "Successfully copied custom_files/reward_function.py to rl-deepracer-jv/reward_function.py\n",
      "The reward function copied successfully to models folder at rl-deepracer-jv/reward_function.py\n",
      "The reward function copied successfully to models folder at rl-deepracer-jv/reward_function.py\n",
      "Generating local training_params.yaml...\n",
      "Generated /tmp/dr/training-params-20250519112630.yaml, uploading to rl-deepracer-jv/training_params.yaml\n",
      "Successfully uploaded local file /tmp/dr/training-params-20250519112630.yaml to rl-deepracer-jv/training_params.yaml\n",
      "Verified: Training params file exists at rl-deepracer-jv/training_params.yaml\n",
      "Cleaned up local file: /tmp/dr/training-params-20250519112630.yaml\n",
      "Upload successfully the RoboMaker training configurations\n",
      "Upload successfully the RoboMaker training configurations\n",
      "Loaded DR_* vars for model 'rl-deepracer-jv' into current process environment.\n",
      "Starting model training\n",
      "Starting model training\n",
      "Attempting to start DeepRacer Docker stack...\n",
      "Cleaning up previous run for project deepracer-0...\n",
      "Pruning unused Docker resources...\n",
      "Starting DeepRacer stack for project deepracer-0 with 1 workers...\n",
      "Network 'sagemaker-local' already exists.\n",
      "Created modified compose file with Redis at /tmp/docker-compose-training-redis-e48inxpy.yml\n",
      "Using compose files: ['/tmp/docker-compose-training-redis-e48inxpy.yml', '/home/insightlab/deepracer/drfc-manager/config/drfc-images/docker-compose-keys.yml', '/home/insightlab/deepracer/drfc-manager/config/drfc-images/docker-compose-endpoint.yml']\n",
      "ROBOMAKER_COMMAND set to: /opt/simapp/run.sh run distributed_training.launch\n",
      "Cleaned up temporary file /tmp/docker-compose-training-redis-e48inxpy.yml\n",
      "Checking container status...\n",
      "Found running RoboMaker containers: 1\n",
      "Successfully started 1 RoboMaker workers.\n",
      "DeepRacer Docker stack started successfully.\n",
      "Docker stack started.\n",
      "Docker stack started.\n",
      "Skipping log check.\n",
      "Skipping log check.\n",
      "Training pipeline finished.\n"
     ]
    }
   ],
   "source": [
    "# Start training with our model configuration\n",
    "train_pipeline(\n",
    "    model_name=model_name,\n",
    "    hyperparameters=hyperparameters,\n",
    "    model_metadata=model_metadata,\n",
    "    reward_function=reward_function,\n",
    "    overwrite=True,\n",
    "    quiet=False\n",
    ")"
   ]
  },
  {
   "cell_type": "code",
   "execution_count": 7,
   "id": "30990808",
   "metadata": {},
   "outputs": [
    {
     "name": "stdout",
     "output_type": "stream",
     "text": [
      "Attempting to stop training stack...\n",
      "Targeting Run ID: 0\n",
      "Cleaning up previous run for project deepracer-0...\n",
      "Training stack stopped successfully.\n"
     ]
    }
   ],
   "source": [
    "stop_training_pipeline()"
   ]
  },
  {
   "cell_type": "markdown",
   "id": "446fcdde",
   "metadata": {},
   "source": [
    "### 3.1.2 - Cloning your model"
   ]
  },
  {
   "cell_type": "code",
   "execution_count": 4,
   "id": "9ef8a131",
   "metadata": {},
   "outputs": [],
   "source": [
    "def reward_function_base_reward(params):\n",
    "    \"\"\"\n",
    "    Example of a reward function for DeepRacer.\n",
    "    \n",
    "    Args:\n",
    "        params (dict): Input parameters from the simulator\n",
    "        \n",
    "    Returns:\n",
    "        float: The reward value\n",
    "    \"\"\"\n",
    "    # Give a high reward by default\n",
    "    reward = 1.0\n",
    "    \n",
    "    # ...\n",
    "        \n",
    "    return float(reward)"
   ]
  },
  {
   "cell_type": "code",
   "execution_count": 5,
   "id": "38f484d8",
   "metadata": {},
   "outputs": [],
   "source": [
    "from src.types.model_metadata import NeuralNetwork\n",
    "\n",
    "hyperparameters_base_reward = HyperParameters(batch_size=128)\n",
    "model_metadata_base_reward = ModelMetadata(neural_network=NeuralNetwork.DEEP_CONVOLUTIONAL_NETWORK_DEEP)"
   ]
  },
  {
   "cell_type": "code",
   "execution_count": null,
   "id": "3057ebb0",
   "metadata": {},
   "outputs": [],
   "source": [
    "clone_pipeline(\n",
    "    'rl-deepracer-jv',\n",
    "    wipe_target=True,\n",
    "    custom_hyperparameters=hyperparameters_base_reward,\n",
    "    custom_model_metadata=model_metadata_base_reward,\n",
    "    custom_reward_function=reward_function_base_reward\n",
    ")"
   ]
  },
  {
   "cell_type": "code",
   "execution_count": null,
   "id": "c53bfdbb",
   "metadata": {},
   "outputs": [],
   "source": [
    "stop_training_pipeline()"
   ]
  },
  {
   "cell_type": "markdown",
   "id": "viewer-section",
   "metadata": {},
   "source": [
    "## 3.2 Viewer Pipeline"
   ]
  },
  {
   "cell_type": "code",
   "execution_count": 3,
   "id": "start-viewer",
   "metadata": {},
   "outputs": [
    {
     "name": "stdout",
     "output_type": "stream",
     "text": [
      "{'status': 'success', 'message': 'Streamlit viewer started successfully.', 'viewer_url': 'http://localhost:8100', 'viewer_pid': 380696, 'proxy_url': 'http://localhost:8090', 'proxy_pid': 380144}\n"
     ]
    }
   ],
   "source": [
    "result = start_viewer_pipeline(delay=0)\n",
    "print(f\"View the training process at: {result['viewer_url']}\")"
   ]
  },
  {
   "cell_type": "code",
   "execution_count": null,
   "id": "d558ee95",
   "metadata": {},
   "outputs": [],
   "source": [
    "stop_viewer_pipeline()"
   ]
  }
 ],
 "metadata": {
  "kernelspec": {
   "display_name": "Python 3 (ipykernel)",
   "language": "python",
   "name": "python3"
  },
  "language_info": {
   "codemirror_mode": {
    "name": "ipython",
    "version": 3
   },
   "file_extension": ".py",
   "mimetype": "text/x-python",
   "name": "python",
   "nbconvert_exporter": "python",
   "pygments_lexer": "ipython3",
   "version": "3.10.12"
  }
 },
 "nbformat": 4,
 "nbformat_minor": 5
}
