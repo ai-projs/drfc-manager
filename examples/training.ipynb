{
 "cells": [
  {
   "cell_type": "markdown",
   "id": "16af81850f057780",
   "metadata": {},
   "source": [
    "# Training Pipeline Example"
   ]
  },
  {
   "cell_type": "markdown",
   "id": "3d6cc6198b704696",
   "metadata": {},
   "source": [
    "## 1. Imports"
   ]
  },
  {
   "cell_type": "code",
   "id": "initial_id",
   "metadata": {
    "collapsed": true,
    "ExecuteTime": {
     "end_time": "2025-03-31T04:36:25.349201Z",
     "start_time": "2025-03-31T04:36:23.790044Z"
    }
   },
   "source": [
    "%reload_ext dotenv\n",
    "%dotenv\n",
    "\n",
    "import warnings\n",
    "warnings.filterwarnings(action='ignore', module='.*paramiko.*')\n",
    "\n",
    "import os\n",
    "\n",
    "from src.training_pipeline import train_pipeline\n",
    "import io\n",
    "\n",
    "from src.types.hyperparameters import HyperParameters\n",
    "from src.types.model_metadata import ModelMetadata"
   ],
   "outputs": [],
   "execution_count": 1
  },
  {
   "metadata": {},
   "cell_type": "markdown",
   "source": "## 2. Defining model parameters and reward function",
   "id": "7390673703d0b582"
  },
  {
   "metadata": {
    "ExecuteTime": {
     "end_time": "2025-03-31T04:36:25.360077Z",
     "start_time": "2025-03-31T04:36:25.357150Z"
    }
   },
   "cell_type": "code",
   "source": [
    "# Default values set from official documentation\n",
    "model_name = 'rl-deepracer-sagemaker'\n",
    "hyperparameters = HyperParameters()\n",
    "model_metadata = ModelMetadata()"
   ],
   "id": "dc093ea3a87c4a76",
   "outputs": [],
   "execution_count": 2
  },
  {
   "metadata": {
    "ExecuteTime": {
     "end_time": "2025-03-31T04:36:25.462018Z",
     "start_time": "2025-03-31T04:36:25.458535Z"
    }
   },
   "cell_type": "code",
   "source": "hyperparameters",
   "id": "dfedd3608f3df109",
   "outputs": [
    {
     "data": {
      "text/plain": [
       "HyperParameters(batch_size=64, beta_entropy=0.01, discount_factor=0.999, e_greedy_value=0.05, epsilon_steps=10000, exploration_type=<ExplorationType.CATEGORICAL: 'categorical'>, loss_type=<LossType.HUBER: 'huber'>, lr=0.0003, num_episodes_between_training=40, num_epochs=3, stack_size=1, term_cond_avg_score=100000, term_cond_max_episodes=100000)"
      ]
     },
     "execution_count": 3,
     "metadata": {},
     "output_type": "execute_result"
    }
   ],
   "execution_count": 3
  },
  {
   "metadata": {
    "ExecuteTime": {
     "end_time": "2025-03-31T04:36:25.469450Z",
     "start_time": "2025-03-31T04:36:25.467159Z"
    }
   },
   "cell_type": "code",
   "source": "model_metadata",
   "id": "6efa625cad6135b2",
   "outputs": [
    {
     "data": {
      "text/plain": [
       "ModelMetadata(action_space_type=<ActionSpaceType.CONTINUOUS: 'continuous'>, action_space=ContinuousActionSpace(steering_angle=SteeringAngle(high=30.0, low=-30.0), speed=Speed(high=4.0, low=1.0)), version=5, training_algorithm=<TrainingAlgorithm.PPO: 'ppo'>, neural_network=<NeuralNetwork.DEEP_CONVOLUTIONAL_NETWORK_SHALLOW: 'DEEP_CONVOLUTIONAL_NETWORK_SHALLOW'>, sensor=[<Sensor.FRONT_FACING_CAMERA: 'FRONT_FACING_CAMERA'>])"
      ]
     },
     "execution_count": 4,
     "metadata": {},
     "output_type": "execute_result"
    }
   ],
   "execution_count": 4
  },
  {
   "metadata": {
    "ExecuteTime": {
     "end_time": "2025-03-31T04:36:25.482579Z",
     "start_time": "2025-03-31T04:36:25.480878Z"
    }
   },
   "cell_type": "code",
   "source": [
    "def reward_function(params):\n",
    "  reward = 1.0\n",
    "  return float(reward)"
   ],
   "id": "2aeda5a8e1768361",
   "outputs": [],
   "execution_count": 5
  },
  {
   "metadata": {},
   "cell_type": "markdown",
   "source": "## 3. Pipelines",
   "id": "92b0e9d55b34174"
  },
  {
   "metadata": {},
   "cell_type": "markdown",
   "source": "### Training",
   "id": "255de14139b2f1d7"
  },
  {
   "metadata": {
    "ExecuteTime": {
     "end_time": "2025-03-31T04:36:29.933474Z",
     "start_time": "2025-03-31T04:36:25.490942Z"
    }
   },
   "cell_type": "code",
   "source": [
    "train_pipeline(\n",
    "  model_name=model_name,\n",
    "  hyperparameters=hyperparameters,\n",
    "  model_metadata=model_metadata,\n",
    "  reward_function=reward_function,\n",
    "  overwrite=True\n",
    ")"
   ],
   "id": "3d14691e9fccfcb9",
   "outputs": [
    {
     "name": "stdout",
     "output_type": "stream",
     "text": [
      "Data uploaded successfully to custom files\n",
      "The reward function copied successfully to models folder at rl-deepracer-sagemaker/reward_function.py\n",
      "Upload successfully the RoboMaker training configurations\n",
      "Exposing the envs from config.env and system.env\n",
      "Starting model training\n",
      "['/Users/jv/Desktop/uni/drfc-manager/config/drfc-images/docker-compose-training.yml', '/Users/jv/Desktop/uni/drfc-manager/config/drfc-images/docker-compose-keys.yml', '/Users/jv/Desktop/uni/drfc-manager/config/drfc-images/docker-compose-endpoint.yml']\n"
     ]
    },
    {
     "name": "stderr",
     "output_type": "stream",
     "text": [
      "time=\"2025-03-31T01:36:29-03:00\" level=warning msg=\"The \\\"DR_SIMAPP_SOURCE\\\" variable is not set. Defaulting to a blank string.\"\n",
      "time=\"2025-03-31T01:36:29-03:00\" level=warning msg=\"The \\\"DR_SIMAPP_VERSION\\\" variable is not set. Defaulting to a blank string.\"\n",
      "time=\"2025-03-31T01:36:29-03:00\" level=warning msg=\"The \\\"DR_ROBOMAKER_TRAIN_PORT\\\" variable is not set. Defaulting to a blank string.\"\n",
      "time=\"2025-03-31T01:36:29-03:00\" level=warning msg=\"The \\\"DR_ROBOMAKER_GUI_PORT\\\" variable is not set. Defaulting to a blank string.\"\n",
      "time=\"2025-03-31T01:36:29-03:00\" level=warning msg=\"The \\\"DR_CURRENT_PARAMS_FILE\\\" variable is not set. Defaulting to a blank string.\"\n",
      "time=\"2025-03-31T01:36:29-03:00\" level=warning msg=\"The \\\"DR_SIMAPP_SOURCE\\\" variable is not set. Defaulting to a blank string.\"\n",
      "time=\"2025-03-31T01:36:29-03:00\" level=warning msg=\"The \\\"DR_SIMAPP_VERSION\\\" variable is not set. Defaulting to a blank string.\"\n",
      "time=\"2025-03-31T01:36:29-03:00\" level=warning msg=\"The \\\"DR_SIMAPP_SOURCE\\\" variable is not set. Defaulting to a blank string.\"\n",
      "time=\"2025-03-31T01:36:29-03:00\" level=warning msg=\"The \\\"DR_SIMAPP_VERSION\\\" variable is not set. Defaulting to a blank string.\"\n",
      "time=\"2025-03-31T01:36:29-03:00\" level=warning msg=\"/Users/jv/Desktop/uni/drfc-manager/config/drfc-images/docker-compose-training.yml: the attribute `version` is obsolete, it will be ignored, please remove it to avoid potential confusion\"\n",
      "time=\"2025-03-31T01:36:29-03:00\" level=warning msg=\"The \\\"DR_LOCAL_ACCESS_KEY_ID\\\" variable is not set. Defaulting to a blank string.\"\n",
      "time=\"2025-03-31T01:36:29-03:00\" level=warning msg=\"The \\\"DR_LOCAL_SECRET_ACCESS_KEY\\\" variable is not set. Defaulting to a blank string.\"\n",
      "time=\"2025-03-31T01:36:29-03:00\" level=warning msg=\"The \\\"DR_LOCAL_ACCESS_KEY_ID\\\" variable is not set. Defaulting to a blank string.\"\n",
      "time=\"2025-03-31T01:36:29-03:00\" level=warning msg=\"The \\\"DR_LOCAL_SECRET_ACCESS_KEY\\\" variable is not set. Defaulting to a blank string.\"\n",
      "time=\"2025-03-31T01:36:29-03:00\" level=warning msg=\"/Users/jv/Desktop/uni/drfc-manager/config/drfc-images/docker-compose-keys.yml: the attribute `version` is obsolete, it will be ignored, please remove it to avoid potential confusion\"\n",
      "time=\"2025-03-31T01:36:29-03:00\" level=warning msg=\"The \\\"DR_MINIO_URL\\\" variable is not set. Defaulting to a blank string.\"\n",
      "time=\"2025-03-31T01:36:29-03:00\" level=warning msg=\"The \\\"DR_MINIO_URL\\\" variable is not set. Defaulting to a blank string.\"\n",
      "time=\"2025-03-31T01:36:29-03:00\" level=warning msg=\"/Users/jv/Desktop/uni/drfc-manager/config/drfc-images/docker-compose-endpoint.yml: the attribute `version` is obsolete, it will be ignored, please remove it to avoid potential confusion\"\n",
      "unable to get image ':': Error response from daemon: invalid reference format\n"
     ]
    },
    {
     "ename": "BaseExceptionTransformers",
     "evalue": "\n🚨 Transformer Error 🚨\nMessage: It was not possible to start the training\nCaused by: DockerException(\"The command executed was `/opt/homebrew/bin/docker --host ssh://insightlab@jaguaribe.quixada.ufc.br:20258 compose --file /Users/jv/Desktop/uni/drfc-manager/config/drfc-images/docker-compose-training.yml --file /Users/jv/Desktop/uni/drfc-manager/config/drfc-images/docker-compose-keys.yml --file /Users/jv/Desktop/uni/drfc-manager/config/drfc-images/docker-compose-endpoint.yml up`.\\nIt returned with code 1\\nThe content of stdout can be found above the stacktrace (it wasn't captured).\\nThe content of stderr can be found above the stacktrace (it wasn't captured).\")",
     "output_type": "error",
     "traceback": [
      "\u001B[31m---------------------------------------------------------------------------\u001B[39m",
      "\u001B[31mTransformerException\u001B[39m                      Traceback (most recent call last)",
      "\u001B[31mTransformerException\u001B[39m: An error occurred in transformer \"start_training\"",
      "\nThe above exception was the direct cause of the following exception:\n",
      "\u001B[31mBaseExceptionTransformers\u001B[39m                 Traceback (most recent call last)",
      "\u001B[36mCell\u001B[39m\u001B[36m \u001B[39m\u001B[32mIn[6]\u001B[39m\u001B[32m, line 1\u001B[39m\n\u001B[32m----> \u001B[39m\u001B[32m1\u001B[39m \u001B[43mtrain_pipeline\u001B[49m\u001B[43m(\u001B[49m\n\u001B[32m      2\u001B[39m \u001B[43m  \u001B[49m\u001B[43mmodel_name\u001B[49m\u001B[43m=\u001B[49m\u001B[43mmodel_name\u001B[49m\u001B[43m,\u001B[49m\n\u001B[32m      3\u001B[39m \u001B[43m  \u001B[49m\u001B[43mhyperparameters\u001B[49m\u001B[43m=\u001B[49m\u001B[43mhyperparameters\u001B[49m\u001B[43m,\u001B[49m\n\u001B[32m      4\u001B[39m \u001B[43m  \u001B[49m\u001B[43mmodel_metadata\u001B[49m\u001B[43m=\u001B[49m\u001B[43mmodel_metadata\u001B[49m\u001B[43m,\u001B[49m\n\u001B[32m      5\u001B[39m \u001B[43m  \u001B[49m\u001B[43mreward_function\u001B[49m\u001B[43m=\u001B[49m\u001B[43mreward_function\u001B[49m\u001B[43m,\u001B[49m\n\u001B[32m      6\u001B[39m \u001B[43m  \u001B[49m\u001B[43moverwrite\u001B[49m\u001B[43m=\u001B[49m\u001B[38;5;28;43;01mTrue\u001B[39;49;00m\n\u001B[32m      7\u001B[39m \u001B[43m)\u001B[49m\n",
      "\u001B[36mFile \u001B[39m\u001B[32m~/Desktop/uni/drfc-manager/src/training_pipeline.py:96\u001B[39m, in \u001B[36mtrain_pipeline\u001B[39m\u001B[34m(model_name, hyperparameters, model_metadata, reward_function, overwrite)\u001B[39m\n\u001B[32m     60\u001B[39m model_data_to_custom_files = forward[\u001B[38;5;28;01mNone\u001B[39;00m]() >> (\n\u001B[32m     61\u001B[39m     (\n\u001B[32m     62\u001B[39m         upload_hyperparameters(_minio_client, hyperparameters),\n\u001B[32m   (...)\u001B[39m\u001B[32m     65\u001B[39m     )\n\u001B[32m     66\u001B[39m )\n\u001B[32m     68\u001B[39m training_start_pipeline = (\n\u001B[32m     69\u001B[39m     create_sagemaker_temp_files >>\n\u001B[32m     70\u001B[39m     check_if_metadata_is_available >>\n\u001B[32m   (...)\u001B[39m\u001B[32m     94\u001B[39m     )\n\u001B[32m     95\u001B[39m )\n\u001B[32m---> \u001B[39m\u001B[32m96\u001B[39m \u001B[43mtraining_start_pipeline\u001B[49m\u001B[43m(\u001B[49m\u001B[38;5;28;43;01mNone\u001B[39;49;00m\u001B[43m)\u001B[49m\n",
      "\u001B[36mFile \u001B[39m\u001B[32m~/miniconda3/envs/drfc-manager/lib/python3.11/site-packages/gloe/transformers.py:84\u001B[39m, in \u001B[36mTransformer.__call__\u001B[39m\u001B[34m(self, data)\u001B[39m\n\u001B[32m     81\u001B[39m     transform_exception = catch_transformer_exception(exception, \u001B[38;5;28mself\u001B[39m)\n\u001B[32m     83\u001B[39m \u001B[38;5;28;01mif\u001B[39;00m transform_exception \u001B[38;5;129;01mis\u001B[39;00m \u001B[38;5;129;01mnot\u001B[39;00m \u001B[38;5;28;01mNone\u001B[39;00m:\n\u001B[32m---> \u001B[39m\u001B[32m84\u001B[39m     \u001B[38;5;28;01mraise\u001B[39;00m transform_exception.internal_exception\n\u001B[32m     86\u001B[39m \u001B[38;5;28;01mif\u001B[39;00m \u001B[38;5;28mtype\u001B[39m(transformed) \u001B[38;5;129;01mis\u001B[39;00m \u001B[38;5;129;01mnot\u001B[39;00m \u001B[38;5;28;01mNone\u001B[39;00m:\n\u001B[32m     87\u001B[39m     \u001B[38;5;28;01mreturn\u001B[39;00m cast(_O, transformed)\n",
      "\u001B[36mFile \u001B[39m\u001B[32m~/miniconda3/envs/drfc-manager/lib/python3.11/site-packages/gloe/transformers.py:79\u001B[39m, in \u001B[36mTransformer.__call__\u001B[39m\u001B[34m(self, data)\u001B[39m\n\u001B[32m     77\u001B[39m transformed: Optional[_O] = \u001B[38;5;28;01mNone\u001B[39;00m\n\u001B[32m     78\u001B[39m \u001B[38;5;28;01mtry\u001B[39;00m:\n\u001B[32m---> \u001B[39m\u001B[32m79\u001B[39m     transformed = \u001B[38;5;28;43mself\u001B[39;49m\u001B[43m.\u001B[49m\u001B[43mtransform\u001B[49m\u001B[43m(\u001B[49m\u001B[43mdata\u001B[49m\u001B[43m)\u001B[49m\n\u001B[32m     80\u001B[39m \u001B[38;5;28;01mexcept\u001B[39;00m \u001B[38;5;167;01mException\u001B[39;00m \u001B[38;5;28;01mas\u001B[39;00m exception:\n\u001B[32m     81\u001B[39m     transform_exception = catch_transformer_exception(exception, \u001B[38;5;28mself\u001B[39m)\n",
      "\u001B[36mFile \u001B[39m\u001B[32m~/miniconda3/envs/drfc-manager/lib/python3.11/site-packages/gloe/functional.py:193\u001B[39m, in \u001B[36mtransformer.<locals>.LambdaTransformer.transform\u001B[39m\u001B[34m(self, data)\u001B[39m\n\u001B[32m    192\u001B[39m \u001B[38;5;28;01mdef\u001B[39;00m\u001B[38;5;250m \u001B[39m\u001B[34mtransform\u001B[39m(\u001B[38;5;28mself\u001B[39m, data):\n\u001B[32m--> \u001B[39m\u001B[32m193\u001B[39m     \u001B[38;5;28;01mreturn\u001B[39;00m \u001B[43mfunc\u001B[49m\u001B[43m(\u001B[49m\u001B[43mdata\u001B[49m\u001B[43m)\u001B[49m\n",
      "\u001B[36mFile \u001B[39m\u001B[32m~/Desktop/uni/drfc-manager/src/transformers/training.py:109\u001B[39m, in \u001B[36mstart_training\u001B[39m\u001B[34m(_)\u001B[39m\n\u001B[32m    107\u001B[39m     docker_compose.up(images_to_start_training)\n\u001B[32m    108\u001B[39m \u001B[38;5;28;01mexcept\u001B[39;00m \u001B[38;5;167;01mException\u001B[39;00m \u001B[38;5;28;01mas\u001B[39;00m e:\n\u001B[32m--> \u001B[39m\u001B[32m109\u001B[39m     \u001B[38;5;28;01mraise\u001B[39;00m BaseExceptionTransformers(\u001B[33m\"\u001B[39m\u001B[33mIt was not possible to start the training\u001B[39m\u001B[33m\"\u001B[39m, e)\n",
      "\u001B[31mBaseExceptionTransformers\u001B[39m: \n🚨 Transformer Error 🚨\nMessage: It was not possible to start the training\nCaused by: DockerException(\"The command executed was `/opt/homebrew/bin/docker --host ssh://insightlab@jaguaribe.quixada.ufc.br:20258 compose --file /Users/jv/Desktop/uni/drfc-manager/config/drfc-images/docker-compose-training.yml --file /Users/jv/Desktop/uni/drfc-manager/config/drfc-images/docker-compose-keys.yml --file /Users/jv/Desktop/uni/drfc-manager/config/drfc-images/docker-compose-endpoint.yml up`.\\nIt returned with code 1\\nThe content of stdout can be found above the stacktrace (it wasn't captured).\\nThe content of stderr can be found above the stacktrace (it wasn't captured).\")"
     ]
    }
   ],
   "execution_count": 6
  }
 ],
 "metadata": {
  "kernelspec": {
   "display_name": "drfc-manager",
   "language": "python",
   "name": "python3"
  },
  "language_info": {
   "codemirror_mode": {
    "name": "ipython",
    "version": 3
   },
   "file_extension": ".py",
   "mimetype": "text/x-python",
   "name": "python",
   "nbconvert_exporter": "python",
   "pygments_lexer": "ipython3",
   "version": "3.11.11"
  }
 },
 "nbformat": 4,
 "nbformat_minor": 5
}
