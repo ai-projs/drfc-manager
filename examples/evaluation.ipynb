{
 "cells": [
  {
   "cell_type": "markdown",
   "metadata": {},
   "source": [
    "# Evaluation notebook"
   ]
  },
  {
   "cell_type": "code",
   "execution_count": 1,
   "metadata": {},
   "outputs": [
    {
     "name": "stdout",
     "output_type": "stream",
     "text": [
      "Using existing MinIO bucket: tcc-experiments\n",
      "Using existing MinIO bucket: tcc-experiments\n"
     ]
    }
   ],
   "source": [
    "%reload_ext dotenv\n",
    "%dotenv\n",
    "\n",
    "import warnings\n",
    "warnings.filterwarnings(action='ignore', module='.*paramiko.*')\n",
    "\n",
    "import os\n",
    "from pprint import pprint\n",
    "\n",
    "from src.evaluation_pipeline import evaluate_pipeline, stop_evaluation_pipeline"
   ]
  },
  {
   "cell_type": "code",
   "execution_count": 2,
   "metadata": {},
   "outputs": [],
   "source": [
    "model_name = 'rl-deepracer-demo'"
   ]
  },
  {
   "cell_type": "code",
   "execution_count": 5,
   "metadata": {},
   "outputs": [
    {
     "name": "stdout",
     "output_type": "stream",
     "text": [
      "Starting evaluation pipeline for model: rl-deepracer-demo, Run ID: 0\n",
      "Stopping evaluation stack: deepracer-eval-0 (Run ID: 0)\n",
      "Stopping evaluation stack: deepracer-eval-0\n",
      "Executing: docker compose -f /home/insightlab/deepracer/drfc-manager/config/drfc-images/docker-compose-eval.yml -p deepracer-eval-0 down --remove-orphans --volumes\n",
      "Stderr:\n",
      "time=\"2025-04-29T21:25:54-03:00\" level=warning msg=\"The \\\"DR_ROBOMAKER_EVAL_PORT\\\" variable is not set. Defaulting to a blank string.\"\n",
      "time=\"2025-04-29T21:25:54-03:00\" level=warning msg=\"/home/insightlab/deepracer/drfc-manager/config/drfc-images/docker-compose-eval.yml: the attribute `version` is obsolete, it will be ignored, please remove it to avoid potential confusion\"\n",
      "time=\"2025-04-29T21:25:54-03:00\" level=warning msg=\"Warning: No resource found to remove for project \\\"deepracer-eval-0\\\".\"\n",
      "\n",
      "Stop evaluation pipeline execution completed.\n",
      "Setting up environment for evaluation run_id: 0, model: rl-deepracer-demo\n",
      "Starting evaluation for model rl-deepracer-demo in stack deepracer-eval-0\n",
      "Successfully uploaded rl-deepracer-demo/evaluation_params.yaml to bucket tcc-experiments\n",
      "Executing: docker compose -f /home/insightlab/deepracer/drfc-manager/config/drfc-images/docker-compose-eval.yml -f /home/insightlab/deepracer/drfc-manager/config/drfc-images/docker-compose-endpoint.yml -f /home/insightlab/deepracer/drfc-manager/config/drfc-images/docker-compose-keys.yml -p deepracer-eval-0 up -d --remove-orphans\n",
      "Stderr:\n",
      "time=\"2025-04-29T21:25:54-03:00\" level=warning msg=\"The \\\"DR_ROBOMAKER_EVAL_PORT\\\" variable is not set. Defaulting to a blank string.\"\n",
      "time=\"2025-04-29T21:25:54-03:00\" level=warning msg=\"/home/insightlab/deepracer/drfc-manager/config/drfc-images/docker-compose-eval.yml: the attribute `version` is obsolete, it will be ignored, please remove it to avoid potential confusion\"\n",
      "time=\"2025-04-29T21:25:54-03:00\" level=warning msg=\"/home/insightlab/deepracer/drfc-manager/config/drfc-images/docker-compose-endpoint.yml: the attribute `version` is obsolete, it will be ignored, please remove it to avoid potential confusion\"\n",
      "time=\"2025-04-29T21:25:54-03:00\" level=warning msg=\"/home/insightlab/deepracer/drfc-manager/config/drfc-images/docker-compose-keys.yml: the attribute `version` is obsolete, it will be ignored, please remove it to avoid potential confusion\"\n",
      " Container deepracer-eval-0-rl_coach-1  Creating\n",
      " Container deepracer-eval-0-robomaker-1  Creating\n",
      " Container deepracer-eval-0-rl_coach-1  Created\n",
      " Container deepracer-eval-0-robomaker-1  Created\n",
      " Container deepracer-eval-0-rl_coach-1  Starting\n",
      " Container deepracer-eval-0-robomaker-1  Starting\n",
      " Container deepracer-eval-0-robomaker-1  Started\n",
      " Container deepracer-eval-0-rl_coach-1  Started\n",
      "\n",
      "Evaluation pipeline execution completed.\n",
      "{'clone': False,\n",
      " 'model_name': 'rl-deepracer-demo',\n",
      " 'original_prefix': 'rl-deepracer-demo',\n",
      " 'output': '',\n",
      " 'quiet': False,\n",
      " 'run_id': 0,\n",
      " 'stack_name': 'deepracer-eval-0',\n",
      " 'status': 'success'}\n"
     ]
    }
   ],
   "source": [
    "result = evaluate_pipeline(\n",
    "    model_name=model_name,\n",
    ")\n",
    "pprint(result)"
   ]
  },
  {
   "cell_type": "code",
   "execution_count": 4,
   "metadata": {},
   "outputs": [
    {
     "name": "stdout",
     "output_type": "stream",
     "text": [
      "Stopping evaluation stack: deepracer-eval-0 (Run ID: 0)\n",
      "Stopping evaluation stack: deepracer-eval-0\n",
      "Executing: docker compose -f /home/insightlab/deepracer/drfc-manager/config/drfc-images/docker-compose-eval.yml -p deepracer-eval-0 down --remove-orphans --volumes\n",
      "Stderr:\n",
      "time=\"2025-04-29T21:25:46-03:00\" level=warning msg=\"The \\\"DR_ROBOMAKER_EVAL_PORT\\\" variable is not set. Defaulting to a blank string.\"\n",
      "time=\"2025-04-29T21:25:46-03:00\" level=warning msg=\"/home/insightlab/deepracer/drfc-manager/config/drfc-images/docker-compose-eval.yml: the attribute `version` is obsolete, it will be ignored, please remove it to avoid potential confusion\"\n",
      " Container deepracer-eval-0-robomaker-1  Stopping\n",
      " Container deepracer-eval-0-rl_coach-1  Stopping\n",
      " Container deepracer-eval-0-rl_coach-1  Stopped\n",
      " Container deepracer-eval-0-rl_coach-1  Removing\n",
      " Container deepracer-eval-0-rl_coach-1  Removed\n",
      " Container deepracer-eval-0-robomaker-1  Stopped\n",
      " Container deepracer-eval-0-robomaker-1  Removing\n",
      " Container deepracer-eval-0-robomaker-1  Removed\n",
      "\n",
      "Stop evaluation pipeline execution completed.\n"
     ]
    },
    {
     "data": {
      "text/plain": [
       "{'stack_name': 'deepracer-eval-0', 'status': 'success', 'output': ''}"
      ]
     },
     "execution_count": 4,
     "metadata": {},
     "output_type": "execute_result"
    }
   ],
   "source": [
    "stop_evaluation_pipeline()"
   ]
  }
 ],
 "metadata": {
  "language_info": {
   "name": "python"
  }
 },
 "nbformat": 4,
 "nbformat_minor": 2
}
