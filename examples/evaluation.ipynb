{
 "cells": [
  {
   "cell_type": "markdown",
   "metadata": {},
   "source": [
    "# Evaluation notebook"
   ]
  },
  {
   "cell_type": "markdown",
   "metadata": {},
   "source": [
    "## 1. Start the evaluation process"
   ]
  },
  {
   "cell_type": "code",
   "execution_count": 1,
   "metadata": {},
   "outputs": [
    {
     "name": "stderr",
     "output_type": "stream",
     "text": [
      "2025-07-04 22:39:24 - drfc - INFO - Using existing MinIO bucket: tcc-experiments\n",
      "2025-07-04 22:39:24 - drfc - INFO - Using existing MinIO bucket: tcc-experiments\n",
      "2025-07-04 22:39:24 - drfc - INFO - Using existing MinIO bucket: tcc-experiments\n",
      "2025-07-04 22:39:24 - drfc - INFO - Using existing MinIO bucket: tcc-experiments\n",
      "2025-07-04 22:39:24 - drfc - INFO - Using existing MinIO bucket: tcc-experiments\n"
     ]
    },
    {
     "name": "stdout",
     "output_type": "stream",
     "text": [
      "Initializing EnvVars for the first time\n"
     ]
    }
   ],
   "source": [
    "from drfc_manager.pipelines.evaluation import evaluate_pipeline, stop_evaluation_pipeline"
   ]
  },
  {
   "cell_type": "code",
   "execution_count": 5,
   "metadata": {},
   "outputs": [],
   "source": [
    "model_name = 'rl-deepracer-sagemaker-v2'"
   ]
  },
  {
   "cell_type": "code",
   "execution_count": 3,
   "metadata": {},
   "outputs": [],
   "source": [
    "result = evaluate_pipeline(\n",
    "    model_name=model_name,\n",
    "    run_id=0,\n",
    "    quiet=True,\n",
    "    clone=False,\n",
    "    save_mp4=True\n",
    ")"
   ]
  },
  {
   "cell_type": "code",
   "execution_count": 3,
   "metadata": {},
   "outputs": [
    {
     "data": {
      "text/plain": [
       "{'status': 'success',\n",
       " 'output': '',\n",
       " 'model_name': 'rl-deepracer-sagemaker-v2',\n",
       " 'original_prefix': 'rl-deepracer-sagemaker-v2',\n",
       " 'run_timestamp': '20250704223941',\n",
       " 'log_file': '/tmp/drfc_logs/drfc_rl-deepracer-sagemaker-v2_run0_20250704_223936.log'}"
      ]
     },
     "execution_count": 3,
     "metadata": {},
     "output_type": "execute_result"
    }
   ],
   "source": [
    "result"
   ]
  },
  {
   "cell_type": "code",
   "execution_count": null,
   "metadata": {},
   "outputs": [],
   "source": [
    "# Possible to stop the evaluation pipeline if needed\n",
    "stop_evaluation_pipeline()"
   ]
  },
  {
   "cell_type": "markdown",
   "metadata": {},
   "source": [
    "## 2. Check the evaluation results"
   ]
  },
  {
   "cell_type": "code",
   "execution_count": 8,
   "metadata": {},
   "outputs": [
    {
     "name": "stdout",
     "output_type": "stream",
     "text": [
      "Your evaluation data is in: tcc-experiments/rl-deepracer-sagemaker-v2/evaluation-20250704223941/\n",
      "Access it here: http://jaguaribe.quixada.ufc.br:9001/browser/tcc-experiments/rl-deepracer-sagemaker-v2%2Fevaluation-20250704223941%2F\n",
      "Your evalution video is in: http://jaguaribe.quixada.ufc.br:9001/browser/tcc-experiments/rl-deepracer-sagemaker-v2%2Fmp4%2Fevaluation-20250704223941%2F\n"
     ]
    }
   ],
   "source": [
    "from drfc_manager.config_env import settings\n",
    "from drfc_manager.utils.minio.links import minio_console_link\n",
    "\n",
    "run_timestamp = result[\"run_timestamp\"]\n",
    "bucket_name = settings.minio.bucket_name\n",
    "minio_url = \"http://jaguaribe.quixada.ufc.br:9001\"\n",
    "\n",
    "eval_path = f\"{model_name}/evaluation-{run_timestamp}/\"\n",
    "eval_link = minio_console_link(minio_url, bucket_name, eval_path)\n",
    "\n",
    "mp4_path = f\"{model_name}/mp4/evaluation-{run_timestamp}/\"\n",
    "mp4_link = minio_console_link(minio_url, bucket_name, mp4_path)\n",
    "\n",
    "print(f\"Your evaluation data is in: {bucket_name}/{eval_path}\\nAccess it here: {eval_link}\")\n",
    "if mp4_link:\n",
    "    print(f\"Your evalution video is in: {mp4_link}\")"
   ]
  }
 ],
 "metadata": {
  "kernelspec": {
   "display_name": "Python 3 (ipykernel)",
   "language": "python",
   "name": "python3"
  },
  "language_info": {
   "codemirror_mode": {
    "name": "ipython",
    "version": 3
   },
   "file_extension": ".py",
   "mimetype": "text/x-python",
   "name": "python",
   "nbconvert_exporter": "python",
   "pygments_lexer": "ipython3",
   "version": "3.12.6"
  }
 },
 "nbformat": 4,
 "nbformat_minor": 4
}
