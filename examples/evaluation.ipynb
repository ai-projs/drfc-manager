{
 "cells": [
  {
   "cell_type": "markdown",
   "metadata": {},
   "source": [
    "# Evaluation notebook"
   ]
  },
  {
   "cell_type": "markdown",
   "metadata": {},
   "source": [
    "## 1. Start the evaluation process"
   ]
  },
  {
   "cell_type": "code",
   "execution_count": 1,
   "metadata": {},
   "outputs": [
    {
     "name": "stderr",
     "output_type": "stream",
     "text": [
      "2025-05-24 21:08:42 - viewer_pipeline - INFO - Viewer pipeline logging configured to file: /tmp/insightlab/viewer_pipeline.log\n"
     ]
    }
   ],
   "source": [
    "from drfc_manager.pipelines.evaluation import evaluate_pipeline, stop_evaluation_pipeline"
   ]
  },
  {
   "cell_type": "code",
   "execution_count": 3,
   "metadata": {},
   "outputs": [],
   "source": [
    "model_name = 'rl-deepracer-jv-1'"
   ]
  },
  {
   "cell_type": "code",
   "execution_count": 4,
   "metadata": {},
   "outputs": [],
   "source": [
    "result = evaluate_pipeline(\n",
    "    model_name=model_name,\n",
    "    run_id=0,\n",
    "    quiet=True,\n",
    "    clone=False,\n",
    "    save_mp4=True\n",
    ")"
   ]
  },
  {
   "cell_type": "code",
   "execution_count": null,
   "metadata": {},
   "outputs": [],
   "source": [
    "# Possible to stop the evaluation pipeline if needed\n",
    "stop_evaluation_pipeline()"
   ]
  },
  {
   "cell_type": "markdown",
   "metadata": {},
   "source": [
    "## 2. Check the evaluation results"
   ]
  },
  {
   "cell_type": "code",
   "execution_count": 5,
   "metadata": {},
   "outputs": [
    {
     "name": "stdout",
     "output_type": "stream",
     "text": [
      "Your evaluation data is in: bucket/rl-deepracer-jv-1/evaluation-20250524210850/\n",
      "Access it here: http://localhost:9001/browser/bucket/rl-deepracer-jv-1%2Fevaluation-20250524210850%2F\n",
      "Your evalution video is in: http://localhost:9001/browser/bucket/rl-deepracer-jv-1%2Fmp4%2Fevaluation-20250524210850%2F\n"
     ]
    }
   ],
   "source": [
    "from drfc_manager.config_env import settings\n",
    "from drfc_manager.utils.minio.links import minio_console_link\n",
    "\n",
    "run_timestamp = result[\"run_timestamp\"]\n",
    "bucket_name = settings.minio.bucket_name\n",
    "minio_url = str(settings.minio.server_url)\n",
    "\n",
    "eval_path = f\"{model_name}/evaluation-{run_timestamp}/\"\n",
    "eval_link = minio_console_link(minio_url, bucket_name, eval_path)\n",
    "\n",
    "mp4_path = f\"{model_name}/mp4/evaluation-{run_timestamp}/\"\n",
    "mp4_link = minio_console_link(minio_url, bucket_name, mp4_path)\n",
    "\n",
    "print(f\"Your evaluation data is in: {bucket_name}/{eval_path}\\nAccess it here: {eval_link}\")\n",
    "if mp4_link:\n",
    "    print(f\"Your evalution video is in: {mp4_link}\")"
   ]
  }
 ],
 "metadata": {
  "language_info": {
   "name": "python"
  }
 },
 "nbformat": 4,
 "nbformat_minor": 2
}
