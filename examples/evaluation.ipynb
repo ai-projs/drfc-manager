{
 "cells": [
  {
   "cell_type": "markdown",
   "metadata": {},
   "source": [
    "# Evaluation notebook"
   ]
  },
  {
   "cell_type": "markdown",
   "metadata": {},
   "source": [
    "## 1. Start the evaluation process"
   ]
  },
  {
   "cell_type": "code",
   "execution_count": 1,
   "metadata": {},
   "outputs": [
    {
     "name": "stdout",
     "output_type": "stream",
     "text": [
      "Using existing MinIO bucket: tcc-experiments\n"
     ]
    }
   ],
   "source": [
    "from src.evaluation_pipeline import evaluate_pipeline, stop_evaluation_pipeline"
   ]
  },
  {
   "cell_type": "code",
   "execution_count": 2,
   "metadata": {},
   "outputs": [],
   "source": [
    "model_name = 'rl-deepracer-jv'"
   ]
  },
  {
   "cell_type": "code",
   "execution_count": 3,
   "metadata": {},
   "outputs": [
    {
     "name": "stdout",
     "output_type": "stream",
     "text": [
      "Starting evaluation pipeline for model: rl-deepracer-jv, Run ID: 0\n",
      "Stopping evaluation stack: deepracer-eval-0 (Run ID: 0)\n",
      "Stopping evaluation stack: deepracer-eval-0\n",
      "Executing: docker compose -f /home/insightlab/deepracer/drfc-manager/config/drfc-images/docker-compose-eval.yml -p deepracer-eval-0 down --remove-orphans --volumes\n",
      "Stderr:\n",
      "time=\"2025-05-09T22:12:08-03:00\" level=warning msg=\"The \\\"DR_SIMAPP_SOURCE\\\" variable is not set. Defaulting to a blank string.\"\n",
      "time=\"2025-05-09T22:12:08-03:00\" level=warning msg=\"The \\\"DR_SIMAPP_VERSION\\\" variable is not set. Defaulting to a blank string.\"\n",
      "time=\"2025-05-09T22:12:08-03:00\" level=warning msg=\"The \\\"DR_ROBOMAKER_EVAL_PORT\\\" variable is not set. Defaulting to a blank string.\"\n",
      "time=\"2025-05-09T22:12:08-03:00\" level=warning msg=\"The \\\"DR_EVAL_DEBUG_REWARD\\\" variable is not set. Defaulting to a blank string.\"\n",
      "time=\"2025-05-09T22:12:08-03:00\" level=warning msg=\"The \\\"DR_WORLD_NAME\\\" variable is not set. Defaulting to a blank string.\"\n",
      "time=\"2025-05-09T22:12:08-03:00\" level=warning msg=\"The \\\"DR_LOCAL_S3_MODEL_PREFIX\\\" variable is not set. Defaulting to a blank string.\"\n",
      "time=\"2025-05-09T22:12:08-03:00\" level=warning msg=\"The \\\"DR_LOCAL_S3_BUCKET\\\" variable is not set. Defaulting to a blank string.\"\n",
      "time=\"2025-05-09T22:12:08-03:00\" level=warning msg=\"The \\\"DR_AWS_APP_REGION\\\" variable is not set. Defaulting to a blank string.\"\n",
      "time=\"2025-05-09T22:12:08-03:00\" level=warning msg=\"The \\\"DR_CURRENT_PARAMS_FILE\\\" variable is not set. Defaulting to a blank string.\"\n",
      "time=\"2025-05-09T22:12:08-03:00\" level=warning msg=\"The \\\"DR_KINESIS_STREAM_NAME\\\" variable is not set. Defaulting to a blank string.\"\n",
      "time=\"2025-05-09T22:12:08-03:00\" level=warning msg=\"The \\\"DR_CAMERA_KVS_ENABLE\\\" variable is not set. Defaulting to a blank string.\"\n",
      "time=\"2025-05-09T22:12:08-03:00\" level=warning msg=\"The \\\"DR_GUI_ENABLE\\\" variable is not set. Defaulting to a blank string.\"\n",
      "time=\"2025-05-09T22:12:08-03:00\" level=warning msg=\"The \\\"DR_SIMAPP_SOURCE\\\" variable is not set. Defaulting to a blank string.\"\n",
      "time=\"2025-05-09T22:12:08-03:00\" level=warning msg=\"The \\\"DR_SIMAPP_VERSION\\\" variable is not set. Defaulting to a blank string.\"\n",
      "time=\"2025-05-09T22:12:08-03:00\" level=warning msg=\"/home/insightlab/deepracer/drfc-manager/config/drfc-images/docker-compose-eval.yml: the attribute `version` is obsolete, it will be ignored, please remove it to avoid potential confusion\"\n",
      "time=\"2025-05-09T22:12:08-03:00\" level=warning msg=\"Warning: No resource found to remove for project \\\"deepracer-eval-0\\\".\"\n",
      "\n",
      "Stop evaluation completed\n",
      "Successfully uploaded rl-deepracer-jv/evaluation_params.yaml to bucket tcc-experiments\n",
      "Uploaded evaluation config for rl-deepracer-jv\n",
      "Executing: docker compose -f /home/insightlab/deepracer/drfc-manager/config/drfc-images/docker-compose-eval.yml -f /home/insightlab/deepracer/drfc-manager/config/drfc-images/docker-compose-endpoint.yml -f /home/insightlab/deepracer/drfc-manager/config/drfc-images/docker-compose-keys.yml -p deepracer-eval-0 up -d --remove-orphans\n",
      "Stderr:\n",
      "time=\"2025-05-09T22:12:08-03:00\" level=warning msg=\"/home/insightlab/deepracer/drfc-manager/config/drfc-images/docker-compose-eval.yml: the attribute `version` is obsolete, it will be ignored, please remove it to avoid potential confusion\"\n",
      "time=\"2025-05-09T22:12:08-03:00\" level=warning msg=\"/home/insightlab/deepracer/drfc-manager/config/drfc-images/docker-compose-endpoint.yml: the attribute `version` is obsolete, it will be ignored, please remove it to avoid potential confusion\"\n",
      "time=\"2025-05-09T22:12:08-03:00\" level=warning msg=\"/home/insightlab/deepracer/drfc-manager/config/drfc-images/docker-compose-keys.yml: the attribute `version` is obsolete, it will be ignored, please remove it to avoid potential confusion\"\n",
      " Container deepracer-eval-0-rl_coach-1  Creating\n",
      " Container deepracer-eval-0-robomaker-1  Creating\n",
      " Container deepracer-eval-0-rl_coach-1  Created\n",
      " Container deepracer-eval-0-robomaker-1  Created\n",
      " Container deepracer-eval-0-rl_coach-1  Starting\n",
      " Container deepracer-eval-0-robomaker-1  Starting\n",
      " Container deepracer-eval-0-robomaker-1  Started\n",
      " Container deepracer-eval-0-rl_coach-1  Started\n",
      "\n",
      "Evaluation started successfully for rl-deepracer-jv\n"
     ]
    }
   ],
   "source": [
    "result = evaluate_pipeline(\n",
    "    model_name=model_name,\n",
    "    run_id=0,\n",
    "    quiet=True,\n",
    "    clone=False,\n",
    "    save_mp4=True\n",
    ")"
   ]
  },
  {
   "cell_type": "code",
   "execution_count": null,
   "metadata": {},
   "outputs": [],
   "source": [
    "stop_evaluation_pipeline()"
   ]
  },
  {
   "cell_type": "markdown",
   "metadata": {},
   "source": [
    "## 2. Check the evaluation results"
   ]
  },
  {
   "cell_type": "code",
   "execution_count": null,
   "metadata": {},
   "outputs": [],
   "source": [
    "from src.config import settings\n",
    "from src.utils.minio.links import minio_console_link\n",
    "\n",
    "run_timestamp = result[\"run_timestamp\"]\n",
    "bucket_name = settings.minio.bucket_name\n",
    "minio_url = str(settings.minio.server_url)\n",
    "\n",
    "eval_path = f\"{model_name}/evaluation-{run_timestamp}/\"\n",
    "eval_link = minio_console_link(minio_url, bucket_name, eval_path)\n",
    "\n",
    "mp4_path = f\"{model_name}/mp4/evaluation-{run_timestamp}/\"\n",
    "mp4_link = minio_console_link(minio_url, bucket_name, mp4_path)\n",
    "\n",
    "print(f\"Your evaluation data is in: {bucket_name}/{eval_path}\\nAccess it here: {eval_link}\")\n",
    "if mp4_link:\n",
    "    print(f\"Your evalution video is in: {mp4_link}\")"
   ]
  }
 ],
 "metadata": {
  "language_info": {
   "name": "python"
  }
 },
 "nbformat": 4,
 "nbformat_minor": 2
}
